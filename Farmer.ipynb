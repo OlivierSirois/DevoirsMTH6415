{
 "cells": [
  {
   "cell_type": "markdown",
   "metadata": {},
   "source": [
    "# Farmer problem\n",
    "\n",
    "Ref: Birge and Louveaux, \"Introduction to Stochastic Programming\", Chapter 1"
   ]
  },
  {
   "cell_type": "code",
   "execution_count": 5,
   "metadata": {},
   "outputs": [],
   "source": [
    "using JuMP"
   ]
  },
  {
   "cell_type": "code",
   "execution_count": 6,
   "metadata": {},
   "outputs": [],
   "source": [
    "#using Gurobi"
   ]
  },
  {
   "cell_type": "code",
   "execution_count": 7,
   "metadata": {},
   "outputs": [],
   "source": [
    "using Clp"
   ]
  },
  {
   "cell_type": "code",
   "execution_count": 8,
   "metadata": {},
   "outputs": [],
   "source": [
    "#Pkg.add(\"Gurobi\")"
   ]
  },
  {
   "cell_type": "markdown",
   "metadata": {},
   "source": [
    "# Average Scenario"
   ]
  },
  {
   "cell_type": "code",
   "execution_count": 9,
   "metadata": {},
   "outputs": [
    {
     "data": {
      "text/plain": [
       "4-element Array{Int64,1}:\n",
       " 170\n",
       " 150\n",
       "  36\n",
       "  10"
      ]
     },
     "execution_count": 9,
     "metadata": {},
     "output_type": "execute_result"
    }
   ],
   "source": [
    "m = Model(solver = ClpSolver())\n",
    "\n",
    "crops = [\"Wheat\", \"Corn\", \"Suger beets\"]\n",
    "ncrops = length(crops)\n",
    "\n",
    "@variable(m,x[1:ncrops] >= 0)\n",
    "@variable(m,y[1:2] >= 0)\n",
    "@variable(m,w[1:4] >= 0)\n",
    "\n",
    "costSeeding = [150, 230, 260]\n",
    "costs = [238, 210]\n",
    "prices = [170, 150, 36, 10]"
   ]
  },
  {
   "cell_type": "code",
   "execution_count": 10,
   "metadata": {},
   "outputs": [
    {
     "data": {
      "text/plain": [
       "JuMP.Model"
      ]
     },
     "execution_count": 10,
     "metadata": {},
     "output_type": "execute_result"
    }
   ],
   "source": [
    "typeof(m)"
   ]
  },
  {
   "cell_type": "code",
   "execution_count": 11,
   "metadata": {},
   "outputs": [
    {
     "data": {
      "text/latex": [
       "$$ x_{1} + x_{2} + x_{3} \\leq 500 $$"
      ],
      "text/plain": [
       "x[1] + x[2] + x[3] ≤ 500"
      ]
     },
     "execution_count": 11,
     "metadata": {},
     "output_type": "execute_result"
    }
   ],
   "source": [
    "@constraint(m, surface, sum(x[i] for i=1:3) <= 500)"
   ]
  },
  {
   "cell_type": "code",
   "execution_count": 12,
   "metadata": {},
   "outputs": [
    {
     "data": {
      "text/latex": [
       "$$ 2.5 x_{1} + y_{1} - w_{1} \\geq 200 $$"
      ],
      "text/plain": [
       "2.5 x[1] + y[1] - w[1] ≥ 200"
      ]
     },
     "execution_count": 12,
     "metadata": {},
     "output_type": "execute_result"
    }
   ],
   "source": [
    "@constraint(m, wheatNeeds, 2.5x[1]+y[1]-w[1] >= 200)"
   ]
  },
  {
   "cell_type": "code",
   "execution_count": 13,
   "metadata": {},
   "outputs": [
    {
     "data": {
      "text/latex": [
       "$$ 3 x_{2} + y_{2} - w_{2} \\geq 240 $$"
      ],
      "text/plain": [
       "3 x[2] + y[2] - w[2] ≥ 240"
      ]
     },
     "execution_count": 13,
     "metadata": {},
     "output_type": "execute_result"
    }
   ],
   "source": [
    "@constraint(m, cornNeeds, 3x[2]+y[2]-w[2] >= 240)"
   ]
  },
  {
   "cell_type": "code",
   "execution_count": 14,
   "metadata": {},
   "outputs": [
    {
     "data": {
      "text/latex": [
       "$$ w_{3} + w_{4} - 20 x_{3} \\leq 0 $$"
      ],
      "text/plain": [
       "w[3] + w[4] - 20 x[3] ≤ 0"
      ]
     },
     "execution_count": 14,
     "metadata": {},
     "output_type": "execute_result"
    }
   ],
   "source": [
    "@constraint(m, beetsProd, w[3]+w[4] <= 20x[3])"
   ]
  },
  {
   "cell_type": "code",
   "execution_count": 15,
   "metadata": {},
   "outputs": [
    {
     "data": {
      "text/latex": [
       "$$ w_{3} \\leq 6000 $$"
      ],
      "text/plain": [
       "w[3] ≤ 6000"
      ]
     },
     "execution_count": 15,
     "metadata": {},
     "output_type": "execute_result"
    }
   ],
   "source": [
    "@constraint(m, beetsQuota, w[3] <= 6000)"
   ]
  },
  {
   "cell_type": "code",
   "execution_count": 16,
   "metadata": {},
   "outputs": [
    {
     "data": {
      "text/latex": [
       "$$ 150 x_{1} + 230 x_{2} + 260 x_{3} + 238 y_{1} + 210 y_{2} - 170 w_{1} - 150 w_{2} - 36 w_{3} - 10 w_{4} $$"
      ],
      "text/plain": [
       "150 x[1] + 230 x[2] + 260 x[3] + 238 y[1] + 210 y[2] - 170 w[1] - 150 w[2] - 36 w[3] - 10 w[4]"
      ]
     },
     "execution_count": 16,
     "metadata": {},
     "output_type": "execute_result"
    }
   ],
   "source": [
    "@objective(m,Min,sum(costSeeding[i]*x[i] for i=1:3) + sum(costs[i]*y[i] for i = 1:length(costs))\n",
    "    - (sum(prices[i]*w[i] for i=1:length(prices))))"
   ]
  },
  {
   "cell_type": "code",
   "execution_count": 17,
   "metadata": {},
   "outputs": [
    {
     "name": "stdout",
     "output_type": "stream",
     "text": [
      "Min 150 x[1] + 230 x[2] + 260 x[3] + 238 y[1] + 210 y[2] - 170 w[1] - 150 w[2] - 36 w[3] - 10 w[4]\n",
      "Subject to\n",
      " x[1] + x[2] + x[3] ≤ 500\n",
      " 2.5 x[1] + y[1] - w[1] ≥ 200\n",
      " 3 x[2] + y[2] - w[2] ≥ 240\n",
      " w[3] + w[4] - 20 x[3] ≤ 0\n",
      " w[3] ≤ 6000\n",
      " x[i] ≥ 0 ∀ i ∈ {1,2,3}\n",
      " y[i] ≥ 0 ∀ i ∈ {1,2}\n",
      " w[i] ≥ 0 ∀ i ∈ {1,2,3,4}\n"
     ]
    }
   ],
   "source": [
    "print(m)"
   ]
  },
  {
   "cell_type": "code",
   "execution_count": 18,
   "metadata": {},
   "outputs": [
    {
     "data": {
      "text/plain": [
       ":Optimal"
      ]
     },
     "execution_count": 18,
     "metadata": {},
     "output_type": "execute_result"
    }
   ],
   "source": [
    "solve(m)"
   ]
  },
  {
   "cell_type": "code",
   "execution_count": 19,
   "metadata": {},
   "outputs": [
    {
     "name": "stdout",
     "output_type": "stream",
     "text": [
      "Solution: [120.0, 80.0, 300.0]"
     ]
    }
   ],
   "source": [
    "print(\"Solution: $(getvalue(x))\")"
   ]
  },
  {
   "cell_type": "markdown",
   "metadata": {},
   "source": [
    "We will summarize the solution approach using a Julia function."
   ]
  },
  {
   "cell_type": "code",
   "execution_count": 20,
   "metadata": {},
   "outputs": [
    {
     "data": {
      "text/plain": [
       "farmer (generic function with 3 methods)"
      ]
     },
     "execution_count": 20,
     "metadata": {},
     "output_type": "execute_result"
    }
   ],
   "source": [
    "function farmer(factor::Float64 = 1.0, m::Model = Model(solver = ClpSolver()))\n",
    "    # m = Model(solver = ClpSolver())\n",
    "    crops = [\"Wheat\", \"Corn\", \"Suger beets\"]\n",
    "    ncrops = length(crops)\n",
    "\n",
    "    @variable(m,x[1:ncrops] >= 0)\n",
    "    @variable(m,y[1:2] >= 0)\n",
    "    @variable(m,w[1:4] >= 0)\n",
    "\n",
    "    costSeeding = [150, 230, 260]\n",
    "    costs = [238, 210]\n",
    "    prices = [170, 150, 36, 10]\n",
    "    returns = factor*[2.5, 3, 20]\n",
    "\n",
    "    @constraint(m, surface, sum(x[i] for i=1:3) <= 500)\n",
    "\n",
    "    @constraint(m, wheatNeeds, returns[1]x[1]+y[1]-w[1] >= 200)\n",
    "    @constraint(m, cornNeeds, returns[2]x[2]+y[2]-w[2] >= 240)\n",
    "    @constraint(m, beetsProd, w[3]+w[4] <= returns[3]x[3])\n",
    "    @constraint(m, beetsQuota, w[3] <= 6000)\n",
    "\n",
    "    @objective(m,Min,sum(costSeeding[i]*x[i] for i=1:3) + sum(costs[i]*y[i] for i = 1:length(costs))\n",
    "    - (sum(prices[i]*w[i] for i=1:length(prices))))\n",
    "    \n",
    "    status = solve(m)\n",
    "    println(getvalue(x))\n",
    "    return m, status\n",
    "end"
   ]
  },
  {
   "cell_type": "code",
   "execution_count": 21,
   "metadata": {},
   "outputs": [
    {
     "name": "stdout",
     "output_type": "stream",
     "text": [
      "[120.0, 80.0, 300.0]\n"
     ]
    },
    {
     "data": {
      "text/plain": [
       "(Minimization problem with:\n",
       " * 5 linear constraints\n",
       " * 9 variables\n",
       "Solver is ClpMathProg, :Optimal)"
      ]
     },
     "execution_count": 21,
     "metadata": {},
     "output_type": "execute_result"
    }
   ],
   "source": [
    "maverage, status = farmer()"
   ]
  },
  {
   "cell_type": "code",
   "execution_count": 22,
   "metadata": {},
   "outputs": [
    {
     "data": {
      "text/latex": [
       "$$ \\begin{alignat*}{1}\\min\\quad & 150 x_{1} + 230 x_{2} + 260 x_{3} + 238 y_{1} + 210 y_{2} - 170 w_{1} - 150 w_{2} - 36 w_{3} - 10 w_{4}\\\\\n",
       "\\text{Subject to} \\quad & x_{1} + x_{2} + x_{3} \\leq 500\\\\\n",
       " & 2.5 x_{1} + y_{1} - w_{1} \\geq 200\\\\\n",
       " & 3 x_{2} + y_{2} - w_{2} \\geq 240\\\\\n",
       " & w_{3} + w_{4} - 20 x_{3} \\leq 0\\\\\n",
       " & w_{3} \\leq 6000\\\\\n",
       " & x_{i} \\geq 0 \\quad\\forall i \\in \\{1,2,3\\}\\\\\n",
       " & y_{i} \\geq 0 \\quad\\forall i \\in \\{1,2\\}\\\\\n",
       " & w_{i} \\geq 0 \\quad\\forall i \\in \\{1,2,3,4\\}\\\\\n",
       "\\end{alignat*}\n",
       " $$"
      ],
      "text/plain": [
       "Minimization problem with:\n",
       " * 5 linear constraints\n",
       " * 9 variables\n",
       "Solver is ClpMathProg"
      ]
     },
     "execution_count": 22,
     "metadata": {},
     "output_type": "execute_result"
    }
   ],
   "source": [
    "maverage"
   ]
  },
  {
   "cell_type": "code",
   "execution_count": 23,
   "metadata": {},
   "outputs": [
    {
     "data": {
      "text/plain": [
       "-118600.0"
      ]
     },
     "execution_count": 23,
     "metadata": {},
     "output_type": "execute_result"
    }
   ],
   "source": [
    "getobjectivevalue(maverage)"
   ]
  },
  {
   "cell_type": "markdown",
   "metadata": {
    "collapsed": true
   },
   "source": [
    "## Good scenario"
   ]
  },
  {
   "cell_type": "code",
   "execution_count": 24,
   "metadata": {},
   "outputs": [
    {
     "name": "stdout",
     "output_type": "stream",
     "text": [
      "[183.333, 66.6667, 250.0]\n"
     ]
    },
    {
     "data": {
      "text/plain": [
       "(Minimization problem with:\n",
       " * 5 linear constraints\n",
       " * 9 variables\n",
       "Solver is ClpMathProg, :Optimal)"
      ]
     },
     "execution_count": 24,
     "metadata": {},
     "output_type": "execute_result"
    }
   ],
   "source": [
    "mgood, status = farmer(1.2)"
   ]
  },
  {
   "cell_type": "code",
   "execution_count": 25,
   "metadata": {},
   "outputs": [
    {
     "data": {
      "text/latex": [
       "$$ \\begin{alignat*}{1}\\min\\quad & 150 x_{1} + 230 x_{2} + 260 x_{3} + 238 y_{1} + 210 y_{2} - 170 w_{1} - 150 w_{2} - 36 w_{3} - 10 w_{4}\\\\\n",
       "\\text{Subject to} \\quad & x_{1} + x_{2} + x_{3} \\leq 500\\\\\n",
       " & 3 x_{1} + y_{1} - w_{1} \\geq 200\\\\\n",
       " & 3.5999999999999996 x_{2} + y_{2} - w_{2} \\geq 240\\\\\n",
       " & w_{3} + w_{4} - 24 x_{3} \\leq 0\\\\\n",
       " & w_{3} \\leq 6000\\\\\n",
       " & x_{i} \\geq 0 \\quad\\forall i \\in \\{1,2,3\\}\\\\\n",
       " & y_{i} \\geq 0 \\quad\\forall i \\in \\{1,2\\}\\\\\n",
       " & w_{i} \\geq 0 \\quad\\forall i \\in \\{1,2,3,4\\}\\\\\n",
       "\\end{alignat*}\n",
       " $$"
      ],
      "text/plain": [
       "Minimization problem with:\n",
       " * 5 linear constraints\n",
       " * 9 variables\n",
       "Solver is ClpMathProg"
      ]
     },
     "execution_count": 25,
     "metadata": {},
     "output_type": "execute_result"
    }
   ],
   "source": [
    "mgood"
   ]
  },
  {
   "cell_type": "code",
   "execution_count": 26,
   "metadata": {},
   "outputs": [
    {
     "data": {
      "text/plain": [
       "-167666.6666666667"
      ]
     },
     "execution_count": 26,
     "metadata": {},
     "output_type": "execute_result"
    }
   ],
   "source": [
    "getobjectivevalue(mgood)"
   ]
  },
  {
   "cell_type": "markdown",
   "metadata": {},
   "source": [
    "## Bad scenario"
   ]
  },
  {
   "cell_type": "code",
   "execution_count": 28,
   "metadata": {},
   "outputs": [
    {
     "name": "stdout",
     "output_type": "stream",
     "text": [
      "[100.0, 25.0, 375.0]\n"
     ]
    },
    {
     "data": {
      "text/plain": [
       "(Minimization problem with:\n",
       " * 5 linear constraints\n",
       " * 9 variables\n",
       "Solver is ClpMathProg, :Optimal)"
      ]
     },
     "execution_count": 28,
     "metadata": {},
     "output_type": "execute_result"
    }
   ],
   "source": [
    "mbad, status = farmer(0.8, Model(solver = ClpSolver()))"
   ]
  },
  {
   "cell_type": "code",
   "execution_count": 29,
   "metadata": {},
   "outputs": [
    {
     "data": {
      "text/plain": [
       "-59950.0"
      ]
     },
     "execution_count": 29,
     "metadata": {},
     "output_type": "execute_result"
    }
   ],
   "source": [
    "getobjectivevalue(mbad)"
   ]
  },
  {
   "cell_type": "markdown",
   "metadata": {},
   "source": [
    "## Stochastic program - extended form"
   ]
  },
  {
   "cell_type": "markdown",
   "metadata": {},
   "source": [
    "We have to combine the three scenarios. We will assume that each one has a probability equal to 1/3."
   ]
  },
  {
   "cell_type": "code",
   "execution_count": 30,
   "metadata": {},
   "outputs": [
    {
     "data": {
      "text/plain": [
       "3-element Array{Float64,1}:\n",
       " 0.333333\n",
       " 0.333333\n",
       " 0.333333"
      ]
     },
     "execution_count": 30,
     "metadata": {},
     "output_type": "execute_result"
    }
   ],
   "source": [
    "p = [1/3, 1/3, 1/3]"
   ]
  },
  {
   "cell_type": "code",
   "execution_count": 31,
   "metadata": {},
   "outputs": [
    {
     "data": {
      "text/plain": [
       "farmerStoch (generic function with 1 method)"
      ]
     },
     "execution_count": 31,
     "metadata": {},
     "output_type": "execute_result"
    }
   ],
   "source": [
    "function farmerStoch()\n",
    "    m = Model(solver = ClpSolver())\n",
    "\n",
    "    crops = [\"Wheat\", \"Corn\", \"Suger beets\"]\n",
    "    ncrops = length(crops)\n",
    "\n",
    "    @variable(m,x[1:ncrops] >= 0)\n",
    "\n",
    "    @variable(m,ya[1:2] >= 0)\n",
    "    @variable(m,wa[1:4] >= 0)\n",
    "\n",
    "    @variable(m,yg[1:2] >= 0)\n",
    "    @variable(m,wg[1:4] >= 0)\n",
    "\n",
    "    @variable(m,yb[1:2] >= 0)\n",
    "    @variable(m,wb[1:4] >= 0)\n",
    "\n",
    "    costSeeding = [150, 230, 260]\n",
    "    costs = [238, 210]\n",
    "    prices = [170, 150, 36, 10]\n",
    "    returnsA = [2.5, 3, 20]\n",
    "    returnsG = 1.2*[2.5, 3, 20]\n",
    "    returnsB = 0.8*[2.5, 3, 20]\n",
    "\n",
    "    @constraint(m, surface, sum(x[i] for i=1:3) <= 500)\n",
    "\n",
    "    @constraint(m, wheatNA, returnsA[1]x[1]+ya[1]-wa[1] >= 200)\n",
    "    @constraint(m, cornNA, returnsA[2]x[2]+ya[2]-wa[2] >= 240)\n",
    "    @constraint(m, beetsPA, wa[3]+wa[4] <= returnsA[3]x[3])\n",
    "    @constraint(m, beetsQA, wa[3] <= 6000)\n",
    "\n",
    "    @constraint(m, wheatNG, returnsG[1]x[1]+yg[1]-wg[1] >= 200)\n",
    "    @constraint(m, cornNG, returnsG[2]x[2]+yg[2]-wg[2] >= 240)\n",
    "    @constraint(m, beetsPG, wg[3]+wg[4] <= returnsG[3]x[3])\n",
    "    @constraint(m, beetsQG, wg[3] <= 6000)\n",
    "\n",
    "    @constraint(m, wheatNB, returnsB[1]x[1]+yb[1]-wb[1] >= 200)\n",
    "    @constraint(m, cornNB, returnsB[2]x[2]+yb[2]-wb[2] >= 240)\n",
    "    @constraint(m, beetsPB, wb[3]+wb[4] <= returnsB[3]x[3])\n",
    "    @constraint(m, beetsQB, wb[3] <= 6000)\n",
    "\n",
    "    @objective(m, Min, sum(costSeeding[i]*x[i] for i=1:3)\n",
    "        + 1/3*sum(costs[i]*ya[i] for i = 1:length(costs))\n",
    "        - 1/3*sum(prices[i]*wa[i] for i=1:length(prices))\n",
    "        + 1/3*sum(costs[i]*yg[i] for i = 1:length(costs))\n",
    "        - 1/3*sum(prices[i]*wg[i] for i=1:length(prices))\n",
    "        + 1/3*sum(costs[i]*yb[i] for i = 1:length(costs))\n",
    "        - 1/3*sum(prices[i]*wb[i] for i=1:length(prices)))\n",
    "    \n",
    "    status = solve(m)\n",
    "\n",
    "    return m, status\n",
    "end"
   ]
  },
  {
   "cell_type": "code",
   "execution_count": 32,
   "metadata": {},
   "outputs": [
    {
     "data": {
      "text/plain": [
       "(Minimization problem with:\n",
       " * 13 linear constraints\n",
       " * 21 variables\n",
       "Solver is ClpMathProg, :Optimal)"
      ]
     },
     "execution_count": 32,
     "metadata": {},
     "output_type": "execute_result"
    }
   ],
   "source": [
    "mstoch, status = farmerStoch()"
   ]
  },
  {
   "cell_type": "code",
   "execution_count": 33,
   "metadata": {},
   "outputs": [
    {
     "data": {
      "text/plain": [
       "-108390.00000000003"
      ]
     },
     "execution_count": 33,
     "metadata": {},
     "output_type": "execute_result"
    }
   ],
   "source": [
    "valStoch = getobjectivevalue(mstoch)"
   ]
  },
  {
   "cell_type": "markdown",
   "metadata": {
    "collapsed": true
   },
   "source": [
    "## Expected value of the perfect information"
   ]
  },
  {
   "cell_type": "code",
   "execution_count": 34,
   "metadata": {},
   "outputs": [
    {
     "data": {
      "text/plain": [
       "3-element Array{Float64,1}:\n",
       " -118600.0      \n",
       "      -1.67667e5\n",
       "  -59950.0      "
      ]
     },
     "execution_count": 34,
     "metadata": {},
     "output_type": "execute_result"
    }
   ],
   "source": [
    "solutions = [getobjectivevalue(maverage), getobjectivevalue(mgood), getobjectivevalue(mbad)]"
   ]
  },
  {
   "cell_type": "markdown",
   "metadata": {},
   "source": [
    "Expected revenue under perfect information"
   ]
  },
  {
   "cell_type": "code",
   "execution_count": 35,
   "metadata": {},
   "outputs": [
    {
     "data": {
      "text/plain": [
       "-115405.55555555555"
      ]
     },
     "execution_count": 35,
     "metadata": {},
     "output_type": "execute_result"
    }
   ],
   "source": [
    "valPerfect = p'*solutions"
   ]
  },
  {
   "cell_type": "markdown",
   "metadata": {},
   "source": [
    "Expected value of perfect information"
   ]
  },
  {
   "cell_type": "code",
   "execution_count": 36,
   "metadata": {},
   "outputs": [
    {
     "data": {
      "text/plain": [
       "-7015.555555555518"
      ]
     },
     "execution_count": 36,
     "metadata": {},
     "output_type": "execute_result"
    }
   ],
   "source": [
    "valPerfect - valStoch"
   ]
  },
  {
   "cell_type": "markdown",
   "metadata": {},
   "source": [
    "## Value of the stochastic solution"
   ]
  },
  {
   "cell_type": "markdown",
   "metadata": {},
   "source": [
    "We have to fix the first stage decision. We define the second stage problem."
   ]
  },
  {
   "cell_type": "code",
   "execution_count": 40,
   "metadata": {},
   "outputs": [
    {
     "data": {
      "text/plain": [
       "secondStage (generic function with 2 methods)"
      ]
     },
     "execution_count": 40,
     "metadata": {},
     "output_type": "execute_result"
    }
   ],
   "source": [
    "function secondStage(x, factor::Float64 = 1.0)\n",
    "    m = Model(solver = ClpSolver())\n",
    "\n",
    "    @variable(m,y[1:2] >= 0)\n",
    "    @variable(m,w[1:4] >= 0)\n",
    "\n",
    "    costs = [238, 210]\n",
    "    prices = [170, 150, 36, 10]\n",
    "    returns = (factor*[2.5, 3, 20]).*x\n",
    "    z = [200 - returns[1], 240 - returns[2], returns[3]]\n",
    "    \n",
    "    @constraint(m, wheatNeeds, y[1]-w[1] >= z[1])\n",
    "    @constraint(m, cornNeeds, y[2]-w[2] >= z[2])\n",
    "    @constraint(m, beetsProd, w[3]+w[4] <= z[3])\n",
    "    @constraint(m, beetsQuota, w[3] <= 6000)\n",
    "\n",
    "    @objective(m,Min, sum(costs[i]*y[i] for i = 1:length(costs)) - (sum(prices[i]*w[i] for i=1:length(prices))))\n",
    "    \n",
    "    status = solve(m)\n",
    "    \n",
    "    return m, status\n",
    "end"
   ]
  },
  {
   "cell_type": "code",
   "execution_count": 41,
   "metadata": {},
   "outputs": [
    {
     "data": {
      "text/plain": [
       "3-element Array{Int64,1}:\n",
       " 120\n",
       "  80\n",
       " 300"
      ]
     },
     "execution_count": 41,
     "metadata": {},
     "output_type": "execute_result"
    }
   ],
   "source": [
    "x = [120, 80, 300]"
   ]
  },
  {
   "cell_type": "code",
   "execution_count": 42,
   "metadata": {},
   "outputs": [
    {
     "data": {
      "text/plain": [
       "(Minimization problem with:\n",
       " * 4 linear constraints\n",
       " * 6 variables\n",
       "Solver is ClpMathProg, :Optimal)"
      ]
     },
     "execution_count": 42,
     "metadata": {},
     "output_type": "execute_result"
    }
   ],
   "source": [
    "msecond, status = secondStage(x)"
   ]
  },
  {
   "cell_type": "code",
   "execution_count": 43,
   "metadata": {},
   "outputs": [
    {
     "data": {
      "text/latex": [
       "$$ \\begin{alignat*}{1}\\min\\quad & 238 y_{1} + 210 y_{2} - 170 w_{1} - 150 w_{2} - 36 w_{3} - 10 w_{4}\\\\\n",
       "\\text{Subject to} \\quad & y_{1} - w_{1} \\geq -100\\\\\n",
       " & y_{2} - w_{2} \\geq 0\\\\\n",
       " & w_{3} + w_{4} \\leq 6000\\\\\n",
       " & w_{3} \\leq 6000\\\\\n",
       " & y_{i} \\geq 0 \\quad\\forall i \\in \\{1,2\\}\\\\\n",
       " & w_{i} \\geq 0 \\quad\\forall i \\in \\{1,2,3,4\\}\\\\\n",
       "\\end{alignat*}\n",
       " $$"
      ],
      "text/plain": [
       "Minimization problem with:\n",
       " * 4 linear constraints\n",
       " * 6 variables\n",
       "Solver is ClpMathProg"
      ]
     },
     "execution_count": 43,
     "metadata": {},
     "output_type": "execute_result"
    }
   ],
   "source": [
    "msecond"
   ]
  },
  {
   "cell_type": "code",
   "execution_count": 44,
   "metadata": {},
   "outputs": [
    {
     "data": {
      "text/plain": [
       "-233000.0"
      ]
     },
     "execution_count": 44,
     "metadata": {},
     "output_type": "execute_result"
    }
   ],
   "source": [
    "vaverage = getobjectivevalue(msecond)"
   ]
  },
  {
   "cell_type": "code",
   "execution_count": 45,
   "metadata": {},
   "outputs": [
    {
     "data": {
      "text/plain": [
       "(Minimization problem with:\n",
       " * 4 linear constraints\n",
       " * 6 variables\n",
       "Solver is ClpMathProg, :Optimal)"
      ]
     },
     "execution_count": 45,
     "metadata": {},
     "output_type": "execute_result"
    }
   ],
   "source": [
    "msecond, status = secondStage(x, 1.2)"
   ]
  },
  {
   "cell_type": "code",
   "execution_count": 46,
   "metadata": {},
   "outputs": [
    {
     "data": {
      "text/plain": [
       "-262400.0"
      ]
     },
     "execution_count": 46,
     "metadata": {},
     "output_type": "execute_result"
    }
   ],
   "source": [
    "vgood = getobjectivevalue(msecond)"
   ]
  },
  {
   "cell_type": "code",
   "execution_count": 47,
   "metadata": {},
   "outputs": [
    {
     "data": {
      "text/plain": [
       "(Minimization problem with:\n",
       " * 4 linear constraints\n",
       " * 6 variables\n",
       "Solver is ClpMathProg, :Optimal)"
      ]
     },
     "execution_count": 47,
     "metadata": {},
     "output_type": "execute_result"
    }
   ],
   "source": [
    "msecond, status = secondStage(x, 0.8)"
   ]
  },
  {
   "cell_type": "code",
   "execution_count": 48,
   "metadata": {},
   "outputs": [
    {
     "data": {
      "text/plain": [
       "-169520.0"
      ]
     },
     "execution_count": 48,
     "metadata": {},
     "output_type": "execute_result"
    }
   ],
   "source": [
    "vbad = getobjectivevalue(msecond)"
   ]
  },
  {
   "cell_type": "markdown",
   "metadata": {},
   "source": [
    "Expected revenue"
   ]
  },
  {
   "cell_type": "code",
   "execution_count": 49,
   "metadata": {},
   "outputs": [
    {
     "data": {
      "text/plain": [
       "-107239.99999999997"
      ]
     },
     "execution_count": 49,
     "metadata": {},
     "output_type": "execute_result"
    }
   ],
   "source": [
    "er = costSeeding'*x+p'*[vaverage, vgood, vbad]"
   ]
  },
  {
   "cell_type": "markdown",
   "metadata": {},
   "source": [
    "Value of the stochastic solution"
   ]
  },
  {
   "cell_type": "code",
   "execution_count": 50,
   "metadata": {},
   "outputs": [
    {
     "data": {
      "text/plain": [
       "-1150.0000000000582"
      ]
     },
     "execution_count": 50,
     "metadata": {},
     "output_type": "execute_result"
    }
   ],
   "source": [
    "vss = valStoch - er"
   ]
  },
  {
   "cell_type": "code",
   "execution_count": null,
   "metadata": {
    "collapsed": true
   },
   "outputs": [],
   "source": []
  }
 ],
 "metadata": {
  "anaconda-cloud": {},
  "kernelspec": {
   "display_name": "Julia 0.6.2",
   "language": "julia",
   "name": "julia-0.6"
  },
  "language_info": {
   "file_extension": ".jl",
   "mimetype": "application/julia",
   "name": "julia",
   "version": "0.6.2"
  }
 },
 "nbformat": 4,
 "nbformat_minor": 1
}
