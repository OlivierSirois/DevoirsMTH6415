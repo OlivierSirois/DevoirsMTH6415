{
 "cells": [
  {
   "cell_type": "markdown",
   "metadata": {},
   "source": [
    "# Farmer problem\n",
    "\n",
    "Ref: Birge and Louveaux, \"Introduction to Stochastic Programming\", Chapter 1"
   ]
  },
  {
   "cell_type": "code",
   "execution_count": 1,
   "metadata": {
    "collapsed": true
   },
   "outputs": [],
   "source": [
    "using JuMP"
   ]
  },
  {
   "cell_type": "code",
   "execution_count": 2,
   "metadata": {},
   "outputs": [
    {
     "ename": "LoadError",
     "evalue": "\u001b[91mArgumentError: Module Gurobi not found in current path.\nRun `Pkg.add(\"Gurobi\")` to install the Gurobi package.\u001b[39m",
     "output_type": "error",
     "traceback": [
      "\u001b[91mArgumentError: Module Gurobi not found in current path.\nRun `Pkg.add(\"Gurobi\")` to install the Gurobi package.\u001b[39m",
      "",
      "Stacktrace:",
      " [1] \u001b[1m_require\u001b[22m\u001b[22m\u001b[1m(\u001b[22m\u001b[22m::Symbol\u001b[1m)\u001b[22m\u001b[22m at \u001b[1m./loading.jl:435\u001b[22m\u001b[22m",
      " [2] \u001b[1mrequire\u001b[22m\u001b[22m\u001b[1m(\u001b[22m\u001b[22m::Symbol\u001b[1m)\u001b[22m\u001b[22m at \u001b[1m./loading.jl:405\u001b[22m\u001b[22m"
     ]
    }
   ],
   "source": [
    "using Gurobi"
   ]
  },
  {
   "cell_type": "code",
   "execution_count": 3,
   "metadata": {
    "collapsed": true
   },
   "outputs": [],
   "source": [
    "using Clp"
   ]
  },
  {
   "cell_type": "code",
   "execution_count": 4,
   "metadata": {},
   "outputs": [
    {
     "name": "stderr",
     "output_type": "stream",
     "text": [
      "\u001b[1m\u001b[36mINFO: \u001b[39m\u001b[22m\u001b[36mCloning cache of Gurobi from https://github.com/JuliaOpt/Gurobi.jl.git\n",
      "\u001b[39m\u001b[1m\u001b[36mINFO: \u001b[39m\u001b[22m\u001b[36mInstalling Gurobi v0.3.3\n",
      "\u001b[39m\u001b[1m\u001b[36mINFO: \u001b[39m\u001b[22m\u001b[36mBuilding Gurobi\n",
      "\u001b[39m\u001b[1m\u001b[36mINFO: \u001b[39m\u001b[22m\u001b[36mPackage database updated\n",
      "\u001b[39m\u001b[1m\u001b[36mINFO: \u001b[39m\u001b[22m\u001b[36mMETADATA is out-of-date — you may not have the latest version of Gurobi\n",
      "\u001b[39m\u001b[1m\u001b[36mINFO: \u001b[39m\u001b[22m\u001b[36mUse `Pkg.update()` to get the latest versions of your packages\n",
      "\u001b[39m"
     ]
    }
   ],
   "source": [
    "Pkg.add(\"Gurobi\")"
   ]
  },
  {
   "cell_type": "markdown",
   "metadata": {},
   "source": [
    "# Average Scenario"
   ]
  },
  {
   "cell_type": "code",
   "execution_count": null,
   "metadata": {
    "collapsed": true
   },
   "outputs": [],
   "source": [
    "m = Model(solver = ClpSolver())\n",
    "\n",
    "crops = [\"Wheat\", \"Corn\", \"Suger beets\"]\n",
    "ncrops = length(crops)\n",
    "\n",
    "@variable(m,x[1:ncrops] >= 0)\n",
    "@variable(m,y[1:2] >= 0)\n",
    "@variable(m,w[1:4] >= 0)\n",
    "\n",
    "costSeeding = [150, 230, 260]\n",
    "costs = [238, 210]\n",
    "prices = [170, 150, 36, 10]"
   ]
  },
  {
   "cell_type": "code",
   "execution_count": null,
   "metadata": {
    "collapsed": true
   },
   "outputs": [],
   "source": [
    "typeof(m)"
   ]
  },
  {
   "cell_type": "code",
   "execution_count": null,
   "metadata": {
    "collapsed": true
   },
   "outputs": [],
   "source": [
    "@constraint(m, surface, sum(x[i] for i=1:3) <= 500)"
   ]
  },
  {
   "cell_type": "code",
   "execution_count": null,
   "metadata": {
    "collapsed": true
   },
   "outputs": [],
   "source": [
    "@constraint(m, wheatNeeds, 2.5x[1]+y[1]-w[1] >= 200)"
   ]
  },
  {
   "cell_type": "code",
   "execution_count": null,
   "metadata": {
    "collapsed": true
   },
   "outputs": [],
   "source": [
    "@constraint(m, cornNeeds, 3x[2]+y[2]-w[2] >= 240)"
   ]
  },
  {
   "cell_type": "code",
   "execution_count": null,
   "metadata": {
    "collapsed": true
   },
   "outputs": [],
   "source": [
    "@constraint(m, beetsProd, w[3]+w[4] <= 20x[3])"
   ]
  },
  {
   "cell_type": "code",
   "execution_count": null,
   "metadata": {
    "collapsed": true
   },
   "outputs": [],
   "source": [
    "@constraint(m, beetsQuota, w[3] <= 6000)"
   ]
  },
  {
   "cell_type": "code",
   "execution_count": null,
   "metadata": {
    "collapsed": true
   },
   "outputs": [],
   "source": [
    "@objective(m,Min,sum(costSeeding[i]*x[i] for i=1:3) + sum(costs[i]*y[i] for i = 1:length(costs))\n",
    "    - (sum(prices[i]*w[i] for i=1:length(prices))))"
   ]
  },
  {
   "cell_type": "code",
   "execution_count": null,
   "metadata": {
    "collapsed": true
   },
   "outputs": [],
   "source": [
    "print(m)"
   ]
  },
  {
   "cell_type": "code",
   "execution_count": null,
   "metadata": {
    "collapsed": true
   },
   "outputs": [],
   "source": [
    "solve(m)"
   ]
  },
  {
   "cell_type": "code",
   "execution_count": null,
   "metadata": {
    "collapsed": true
   },
   "outputs": [],
   "source": [
    "print(\"Solution: $(getvalue(x))\")"
   ]
  },
  {
   "cell_type": "markdown",
   "metadata": {},
   "source": [
    "We will summarize the solution approach using a Julia function."
   ]
  },
  {
   "cell_type": "code",
   "execution_count": null,
   "metadata": {
    "collapsed": true
   },
   "outputs": [],
   "source": [
    "function farmer(factor::Float64 = 1.0, m::Model = Model(solver = ClpSolver()))\n",
    "    # m = Model(solver = ClpSolver())\n",
    "    crops = [\"Wheat\", \"Corn\", \"Suger beets\"]\n",
    "    ncrops = length(crops)\n",
    "\n",
    "    @variable(m,x[1:ncrops] >= 0)\n",
    "    @variable(m,y[1:2] >= 0)\n",
    "    @variable(m,w[1:4] >= 0)\n",
    "\n",
    "    costSeeding = [150, 230, 260]\n",
    "    costs = [238, 210]\n",
    "    prices = [170, 150, 36, 10]\n",
    "    returns = factor*[2.5, 3, 20]\n",
    "\n",
    "    @constraint(m, surface, sum(x[i] for i=1:3) <= 500)\n",
    "\n",
    "    @constraint(m, wheatNeeds, returns[1]x[1]+y[1]-w[1] >= 200)\n",
    "    @constraint(m, cornNeeds, returns[2]x[2]+y[2]-w[2] >= 240)\n",
    "    @constraint(m, beetsProd, w[3]+w[4] <= returns[3]x[3])\n",
    "    @constraint(m, beetsQuota, w[3] <= 6000)\n",
    "\n",
    "    @objective(m,Min,sum(costSeeding[i]*x[i] for i=1:3) + sum(costs[i]*y[i] for i = 1:length(costs))\n",
    "    - (sum(prices[i]*w[i] for i=1:length(prices))))\n",
    "    \n",
    "    status = solve(m)\n",
    "    println(getvalue(x))\n",
    "    return m, status\n",
    "end"
   ]
  },
  {
   "cell_type": "code",
   "execution_count": null,
   "metadata": {
    "collapsed": true
   },
   "outputs": [],
   "source": [
    "maverage, status = farmer()"
   ]
  },
  {
   "cell_type": "code",
   "execution_count": null,
   "metadata": {
    "collapsed": true
   },
   "outputs": [],
   "source": [
    "maverage"
   ]
  },
  {
   "cell_type": "code",
   "execution_count": null,
   "metadata": {
    "collapsed": true
   },
   "outputs": [],
   "source": [
    "getobjectivevalue(maverage)"
   ]
  },
  {
   "cell_type": "markdown",
   "metadata": {
    "collapsed": true
   },
   "source": [
    "## Good scenario"
   ]
  },
  {
   "cell_type": "code",
   "execution_count": null,
   "metadata": {
    "collapsed": true
   },
   "outputs": [],
   "source": [
    "mgood, status = farmer(1.2)"
   ]
  },
  {
   "cell_type": "code",
   "execution_count": null,
   "metadata": {
    "collapsed": true
   },
   "outputs": [],
   "source": [
    "mgood"
   ]
  },
  {
   "cell_type": "code",
   "execution_count": null,
   "metadata": {
    "collapsed": true
   },
   "outputs": [],
   "source": [
    "getobjectivevalue(mgood)"
   ]
  },
  {
   "cell_type": "markdown",
   "metadata": {},
   "source": [
    "## Bad scenario"
   ]
  },
  {
   "cell_type": "code",
   "execution_count": null,
   "metadata": {
    "collapsed": true
   },
   "outputs": [],
   "source": [
    "mbad, status = farmer(0.8, Model(solver = GurobiSolver()))"
   ]
  },
  {
   "cell_type": "code",
   "execution_count": null,
   "metadata": {
    "collapsed": true
   },
   "outputs": [],
   "source": [
    "getobjectivevalue(mbad)"
   ]
  },
  {
   "cell_type": "markdown",
   "metadata": {},
   "source": [
    "## Stochastic program - extended form"
   ]
  },
  {
   "cell_type": "markdown",
   "metadata": {},
   "source": [
    "We have to combine the three scenarios. We will assume that each one has a probability equal to 1/3."
   ]
  },
  {
   "cell_type": "code",
   "execution_count": null,
   "metadata": {
    "collapsed": true
   },
   "outputs": [],
   "source": [
    "p = [1/3, 1/3, 1/3]"
   ]
  },
  {
   "cell_type": "code",
   "execution_count": null,
   "metadata": {
    "collapsed": true
   },
   "outputs": [],
   "source": [
    "function farmerStoch()\n",
    "    m = Model(solver = GurobiSolver())\n",
    "\n",
    "    crops = [\"Wheat\", \"Corn\", \"Suger beets\"]\n",
    "    ncrops = length(crops)\n",
    "\n",
    "    @variable(m,x[1:ncrops] >= 0)\n",
    "\n",
    "    @variable(m,ya[1:2] >= 0)\n",
    "    @variable(m,wa[1:4] >= 0)\n",
    "\n",
    "    @variable(m,yg[1:2] >= 0)\n",
    "    @variable(m,wg[1:4] >= 0)\n",
    "\n",
    "    @variable(m,yb[1:2] >= 0)\n",
    "    @variable(m,wb[1:4] >= 0)\n",
    "\n",
    "    costSeeding = [150, 230, 260]\n",
    "    costs = [238, 210]\n",
    "    prices = [170, 150, 36, 10]\n",
    "    returnsA = [2.5, 3, 20]\n",
    "    returnsG = 1.2*[2.5, 3, 20]\n",
    "    returnsB = 0.8*[2.5, 3, 20]\n",
    "\n",
    "    @constraint(m, surface, sum(x[i] for i=1:3) <= 500)\n",
    "\n",
    "    @constraint(m, wheatNA, returnsA[1]x[1]+ya[1]-wa[1] >= 200)\n",
    "    @constraint(m, cornNA, returnsA[2]x[2]+ya[2]-wa[2] >= 240)\n",
    "    @constraint(m, beetsPA, wa[3]+wa[4] <= returnsA[3]x[3])\n",
    "    @constraint(m, beetsQA, wa[3] <= 6000)\n",
    "\n",
    "    @constraint(m, wheatNG, returnsG[1]x[1]+yg[1]-wg[1] >= 200)\n",
    "    @constraint(m, cornNG, returnsG[2]x[2]+yg[2]-wg[2] >= 240)\n",
    "    @constraint(m, beetsPG, wg[3]+wg[4] <= returnsG[3]x[3])\n",
    "    @constraint(m, beetsQG, wg[3] <= 6000)\n",
    "\n",
    "    @constraint(m, wheatNB, returnsB[1]x[1]+yb[1]-wb[1] >= 200)\n",
    "    @constraint(m, cornNB, returnsB[2]x[2]+yb[2]-wb[2] >= 240)\n",
    "    @constraint(m, beetsPB, wb[3]+wb[4] <= returnsB[3]x[3])\n",
    "    @constraint(m, beetsQB, wb[3] <= 6000)\n",
    "\n",
    "    @objective(m, Min, sum(costSeeding[i]*x[i] for i=1:3)\n",
    "        + 1/3*sum(costs[i]*ya[i] for i = 1:length(costs))\n",
    "        - 1/3*sum(prices[i]*wa[i] for i=1:length(prices))\n",
    "        + 1/3*sum(costs[i]*yg[i] for i = 1:length(costs))\n",
    "        - 1/3*sum(prices[i]*wg[i] for i=1:length(prices))\n",
    "        + 1/3*sum(costs[i]*yb[i] for i = 1:length(costs))\n",
    "        - 1/3*sum(prices[i]*wb[i] for i=1:length(prices)))\n",
    "    \n",
    "    status = solve(m)\n",
    "\n",
    "    return m, status\n",
    "end"
   ]
  },
  {
   "cell_type": "code",
   "execution_count": null,
   "metadata": {
    "collapsed": true
   },
   "outputs": [],
   "source": [
    "mstoch, status = farmerStoch()"
   ]
  },
  {
   "cell_type": "code",
   "execution_count": null,
   "metadata": {
    "collapsed": true
   },
   "outputs": [],
   "source": [
    "valStoch = getobjectivevalue(mstoch)"
   ]
  },
  {
   "cell_type": "markdown",
   "metadata": {
    "collapsed": true
   },
   "source": [
    "## Expected value of the perfect information"
   ]
  },
  {
   "cell_type": "code",
   "execution_count": null,
   "metadata": {
    "collapsed": true
   },
   "outputs": [],
   "source": [
    "solutions = [getobjectivevalue(maverage), getobjectivevalue(mgood), getobjectivevalue(mbad)]"
   ]
  },
  {
   "cell_type": "markdown",
   "metadata": {},
   "source": [
    "Expected revenue under perfect information"
   ]
  },
  {
   "cell_type": "code",
   "execution_count": null,
   "metadata": {
    "collapsed": true
   },
   "outputs": [],
   "source": [
    "valPerfect = p'*solutions"
   ]
  },
  {
   "cell_type": "markdown",
   "metadata": {},
   "source": [
    "Expected value of perfect information"
   ]
  },
  {
   "cell_type": "code",
   "execution_count": null,
   "metadata": {
    "collapsed": true
   },
   "outputs": [],
   "source": [
    "valPerfect - valStoch"
   ]
  },
  {
   "cell_type": "markdown",
   "metadata": {},
   "source": [
    "## Value of the stochastic solution"
   ]
  },
  {
   "cell_type": "markdown",
   "metadata": {},
   "source": [
    "We have to fix the first stage decision. We define the second stage problem."
   ]
  },
  {
   "cell_type": "code",
   "execution_count": null,
   "metadata": {
    "collapsed": true
   },
   "outputs": [],
   "source": [
    "function secondStage(x, factor::Float64 = 1.0)\n",
    "    m = Model(solver = GurobiSolver())\n",
    "\n",
    "    @variable(m,y[1:2] >= 0)\n",
    "    @variable(m,w[1:4] >= 0)\n",
    "\n",
    "    costs = [238, 210]\n",
    "    prices = [170, 150, 36, 10]\n",
    "    returns = (factor*[2.5, 3, 20]).*x\n",
    "    z = [200 - returns[1], 240 - returns[2], returns[3]]\n",
    "    \n",
    "    @constraint(m, wheatNeeds, y[1]-w[1] >= z[1])\n",
    "    @constraint(m, cornNeeds, y[2]-w[2] >= z[2])\n",
    "    @constraint(m, beetsProd, w[3]+w[4] <= z[3])\n",
    "    @constraint(m, beetsQuota, w[3] <= 6000)\n",
    "\n",
    "    @objective(m,Min, sum(costs[i]*y[i] for i = 1:length(costs)) - (sum(prices[i]*w[i] for i=1:length(prices))))\n",
    "    \n",
    "    status = solve(m)\n",
    "    \n",
    "    return m, status\n",
    "end"
   ]
  },
  {
   "cell_type": "code",
   "execution_count": null,
   "metadata": {
    "collapsed": true
   },
   "outputs": [],
   "source": [
    "x = [120, 80, 300]"
   ]
  },
  {
   "cell_type": "code",
   "execution_count": null,
   "metadata": {
    "collapsed": true
   },
   "outputs": [],
   "source": [
    "msecond, status = secondStage(x)"
   ]
  },
  {
   "cell_type": "code",
   "execution_count": null,
   "metadata": {
    "collapsed": true
   },
   "outputs": [],
   "source": [
    "msecond"
   ]
  },
  {
   "cell_type": "code",
   "execution_count": null,
   "metadata": {
    "collapsed": true
   },
   "outputs": [],
   "source": [
    "vaverage = getobjectivevalue(msecond)"
   ]
  },
  {
   "cell_type": "code",
   "execution_count": null,
   "metadata": {
    "collapsed": true
   },
   "outputs": [],
   "source": [
    "msecond, status = secondStage(x, 1.2)"
   ]
  },
  {
   "cell_type": "code",
   "execution_count": null,
   "metadata": {
    "collapsed": true
   },
   "outputs": [],
   "source": [
    "vgood = getobjectivevalue(msecond)"
   ]
  },
  {
   "cell_type": "code",
   "execution_count": null,
   "metadata": {
    "collapsed": true
   },
   "outputs": [],
   "source": [
    "msecond, status = secondStage(x, 0.8)"
   ]
  },
  {
   "cell_type": "code",
   "execution_count": null,
   "metadata": {
    "collapsed": true
   },
   "outputs": [],
   "source": [
    "vbad = getobjectivevalue(msecond)"
   ]
  },
  {
   "cell_type": "markdown",
   "metadata": {},
   "source": [
    "Expected revenue"
   ]
  },
  {
   "cell_type": "code",
   "execution_count": null,
   "metadata": {
    "collapsed": true
   },
   "outputs": [],
   "source": [
    "er = costSeeding'*x+p'*[vaverage, vgood, vbad]"
   ]
  },
  {
   "cell_type": "markdown",
   "metadata": {},
   "source": [
    "Value of the stochastic solution"
   ]
  },
  {
   "cell_type": "code",
   "execution_count": null,
   "metadata": {
    "collapsed": true
   },
   "outputs": [],
   "source": [
    "vss = valStoch - er"
   ]
  },
  {
   "cell_type": "code",
   "execution_count": null,
   "metadata": {
    "collapsed": true
   },
   "outputs": [],
   "source": []
  }
 ],
 "metadata": {
  "anaconda-cloud": {},
  "kernelspec": {
   "display_name": "Julia 0.6.2",
   "language": "julia",
   "name": "julia-0.6"
  },
  "language_info": {
   "file_extension": ".jl",
   "mimetype": "application/julia",
   "name": "julia",
   "version": "0.6.2"
  }
 },
 "nbformat": 4,
 "nbformat_minor": 1
}
