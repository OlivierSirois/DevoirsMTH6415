{
 "cells": [
  {
   "cell_type": "markdown",
   "metadata": {},
   "source": [
    "# Feasibility cuts\n",
    "\n",
    "Ref: Birge and Louveaux, \"Introduction to Stochastic Programming\""
   ]
  },
  {
   "cell_type": "code",
   "execution_count": 1,
   "metadata": {},
   "outputs": [
    {
     "name": "stderr",
     "output_type": "stream",
     "text": [
      "\u001b[1m\u001b[36mINFO: \u001b[39m\u001b[22m\u001b[36mRecompiling stale cache file C:\\Users\\bastin\\.julia\\lib\\v0.6\\ReverseDiffSparse.ji for module ReverseDiffSparse.\n",
      "\u001b[39m\u001b[1m\u001b[36mINFO: \u001b[39m\u001b[22m\u001b[36mRecompiling stale cache file C:\\Users\\bastin\\.julia\\lib\\v0.6\\JuMP.ji for module JuMP.\n",
      "\u001b[39m\u001b[1m\u001b[36mINFO: \u001b[39m\u001b[22m\u001b[36mRecompiling stale cache file C:\\Users\\bastin\\.julia\\lib\\v0.6\\Gurobi.ji for module Gurobi.\n",
      "\u001b[39m"
     ]
    }
   ],
   "source": [
    "using JuMP\n",
    "using Gurobi"
   ]
  },
  {
   "cell_type": "markdown",
   "metadata": {},
   "source": [
    "We consider the problem\n",
    "\\begin{align*}\n",
    "    \\min_x\\ & x_1 + x_2 + E[Q(x)]\\\\\n",
    "    \\mbox{s.t. } & x \\geq 0\n",
    "\\end{align*}\n",
    "where\n",
    "\\begin{align*}\n",
    "Q(x) = \\min_y & -15y_1 -12y_2 \\\\\n",
    "\\mbox{s.t. } & 3y_1+ 2y_2 \\leq x_1 \\\\\n",
    "& 2y_1 + 5y_2 \\leq x_2 \\\\\n",
    "& 0.8\\xi_1 \\leq y_1 \\leq \\xi_1 \\\\\n",
    "& 0.8\\xi_2 \\leq y_2 \\leq \\xi_2 \\\\\n",
    "& y \\geq 0\n",
    "\\end{align*}\n"
   ]
  },
  {
   "cell_type": "code",
   "execution_count": 3,
   "metadata": {},
   "outputs": [
    {
     "data": {
      "text/latex": [
       "$$ x_{i} \\geq 0 \\quad\\forall i \\in \\{1,2\\} $$"
      ],
      "text/plain": [
       "2-element Array{JuMP.Variable,1}:\n",
       " x[1]\n",
       " x[2]"
      ]
     },
     "execution_count": 3,
     "metadata": {},
     "output_type": "execute_result"
    }
   ],
   "source": [
    "nScens = 4\n",
    "pScenario = 1/nScens\n",
    "p = [pScenario for i = 1:nScens]\n",
    "first = Model(solver = GurobiSolver())\n",
    "@variable(first,x[1:2] >= 0)"
   ]
  },
  {
   "cell_type": "code",
   "execution_count": 18,
   "metadata": {
    "scrolled": true
   },
   "outputs": [
    {
     "data": {
      "text/plain": [
       "secondStage (generic function with 1 method)"
      ]
     },
     "execution_count": 18,
     "metadata": {},
     "output_type": "execute_result"
    }
   ],
   "source": [
    "function secondStage(x::Vector, ξ::Vector)\n",
    "    m = Model(solver = GurobiSolver())\n",
    "\n",
    "    @variable(m,y[1:2])\n",
    "\n",
    "    @constraint(m, ressource1, 3y[1]+2y[2] <= x[1])\n",
    "    @constraint(m, ressource2, 2y[1]+5y[2] <= x[2])\n",
    "    @constraint(m, lb1, y[1] >= 0.8ξ[1])\n",
    "    @constraint(m, ub1, y[1] <= ξ[1])\n",
    "    @constraint(m, lb2, y[2] >= 0.8ξ[2])\n",
    "    @constraint(m, ub2, y[2] <= ξ[2])\n",
    "\n",
    "    @objective(m,Min, -15y[1]-12y[2])\n",
    "    \n",
    "    status = solve(m)\n",
    "    \n",
    "    return m, status\n",
    "end"
   ]
  },
  {
   "cell_type": "code",
   "execution_count": 24,
   "metadata": {},
   "outputs": [
    {
     "data": {
      "text/plain": [
       "secondStage_artificial (generic function with 1 method)"
      ]
     },
     "execution_count": 24,
     "metadata": {},
     "output_type": "execute_result"
    }
   ],
   "source": [
    "function secondStage_artificial(x::Vector, ξ::Vector)\n",
    "    m = Model(solver = GurobiSolver())\n",
    "\n",
    "    @variable(m,y[1:2])\n",
    "    @variable(m, splus[1:6] >= 0)\n",
    "    @variable(m, sminus[1:6] >= 0)\n",
    "\n",
    "    @constraint(m, ressource1, 3y[1]+2y[2]+splus[1]-sminus[1] <= x[1])\n",
    "    @constraint(m, ressource2, 2y[1]+5y[2]+splus[2]-sminus[2] <= x[2])\n",
    "    @constraint(m, lb1, y[1]+splus[3]-sminus[3] >= 0.8ξ[1])\n",
    "    @constraint(m, ub1, y[1]+splus[4]-sminus[4] <= ξ[1])\n",
    "    @constraint(m, lb2, y[2]+splus[5]-sminus[5] >= 0.8ξ[2])\n",
    "    @constraint(m, ub2, y[2]+splus[6]-sminus[6] <= ξ[2])\n",
    "\n",
    "    @objective(m,Min, sum(splus[i] for i=1:6)+sum(sminus[i] for i=1:6))\n",
    "    \n",
    "    status = solve(m)\n",
    "\n",
    "    dual = zeros(6)\n",
    "    dual[1] = getdual(ressource1)\n",
    "    dual[2] = getdual(ressource2)\n",
    "    dual[3] = getdual(lb1)\n",
    "    dual[4] = getdual(ub1)\n",
    "    dual[5] = getdual(lb2)\n",
    "    dual[6] = getdual(ub2)\n",
    "\n",
    "    return m, status, dual\n",
    "end"
   ]
  },
  {
   "cell_type": "markdown",
   "metadata": {},
   "source": [
    "Note: some of the introduced artifical variables are useless."
   ]
  },
  {
   "cell_type": "code",
   "execution_count": 25,
   "metadata": {},
   "outputs": [
    {
     "name": "stdout",
     "output_type": "stream",
     "text": [
      "Academic license - for non-commercial use only\r\n",
      "Optimize a model with 6 rows, 2 columns and 8 nonzeros\r\n",
      "Coefficient statistics:\r\n",
      "  Matrix range     [1e+00, 5e+00]\r\n",
      "  Objective range  [1e+01, 2e+01]\r\n",
      "  Bounds range     [0e+00, 0e+00]\r\n",
      "  RHS range        [5e+00, 8e+00]\r\n",
      "Presolve removed 4 rows and 0 columns\r\n",
      "Presolve time: 0.00s\r\n",
      "Iteration    Objective       Primal Inf.    Dual Inf.      Time\r\n",
      "       0      handle free variables                          0s\r\n",
      "\r\n",
      "Solved in 5 iterations and 0.00 seconds\r\n",
      "Infeasible model\r\n"
     ]
    },
    {
     "name": "stderr",
     "output_type": "stream",
     "text": [
      "\u001b[1m\u001b[33mWARNING: \u001b[39m\u001b[22m\u001b[33mNot solved to optimality, status: Infeasible\u001b[39m\n"
     ]
    },
    {
     "data": {
      "text/plain": [
       "(Minimization problem with:\n",
       " * 6 linear constraints\n",
       " * 2 variables\n",
       "Solver is Gurobi, :Infeasible)"
      ]
     },
     "execution_count": 25,
     "metadata": {},
     "output_type": "execute_result"
    }
   ],
   "source": [
    "ξ = [6,8]\n",
    "m, status = secondStage([0,0],ξ)"
   ]
  },
  {
   "cell_type": "code",
   "execution_count": 26,
   "metadata": {},
   "outputs": [
    {
     "data": {
      "text/plain": [
       ":Infeasible"
      ]
     },
     "execution_count": 26,
     "metadata": {},
     "output_type": "execute_result"
    }
   ],
   "source": [
    "status"
   ]
  },
  {
   "cell_type": "code",
   "execution_count": 27,
   "metadata": {},
   "outputs": [
    {
     "data": {
      "text/plain": [
       "(Minimization problem with:\n",
       " * 6 linear constraints\n",
       " * 14 variables\n",
       "Solver is Gurobi, :Optimal, [-0.272727, -0.0909091, 1.0, 0.0, 1.0, 0.0])"
      ]
     },
     "execution_count": 27,
     "metadata": {},
     "output_type": "execute_result"
    },
    {
     "name": "stdout",
     "output_type": "stream",
     "text": [
      "Academic license - for non-commercial use only\r\n",
      "Optimize a model with 6 rows, 14 columns and 20 nonzeros\r\n",
      "Coefficient statistics:\r\n",
      "  Matrix range     [1e+00, 5e+00]\r\n",
      "  Objective range  [1e+00, 1e+00]\r\n",
      "  Bounds range     [0e+00, 0e+00]\r\n",
      "  RHS range        [5e+00, 8e+00]\r\n",
      "Presolve removed 4 rows and 12 columns\r\n",
      "Presolve time: 0.00s\r\n",
      "Presolved: 2 rows, 2 columns, 4 nonzeros\r\n",
      "\r\n",
      "Iteration    Objective       Primal Inf.    Dual Inf.      Time\r\n",
      "       0    0.0000000e+00   1.200000e+01   0.000000e+00      0s\r\n",
      "       2    1.1200000e+01   0.000000e+00   0.000000e+00      0s\r\n",
      "\r\n",
      "Solved in 2 iterations and 0.00 seconds\r\n",
      "Optimal objective  1.120000000e+01\r\n"
     ]
    }
   ],
   "source": [
    "if (status == :Infeasible)\n",
    "    # We have to build the artificial problem\n",
    "    martificial, status, dual = secondStage_artificial([0,0],[6,8])\n",
    "end"
   ]
  },
  {
   "cell_type": "code",
   "execution_count": 28,
   "metadata": {},
   "outputs": [
    {
     "name": "stdout",
     "output_type": "stream",
     "text": [
      "Min splus[1] + splus[2] + splus[3] + splus[4] + splus[5] + splus[6] + sminus[1] + sminus[2] + sminus[3] + sminus[4] + sminus[5] + sminus[6]\n",
      "Subject to\n",
      " 3 y[1] + 2 y[2] + splus[1] - sminus[1] <= 0\n",
      " 2 y[1] + 5 y[2] + splus[2] - sminus[2] <= 0\n",
      " y[1] + splus[3] - sminus[3] >= 4.800000000000001\n",
      " y[1] + splus[4] - sminus[4] <= 6\n",
      " y[2] + splus[5] - sminus[5] >= 6.4\n",
      " y[2] + splus[6] - sminus[6] <= 8\n",
      " y[i] for all i in {1,2}\n",
      " splus[i] >= 0 for all i in {1,2,..,5,6}\n",
      " sminus[i] >= 0 for all i in {1,2,..,5,6}\n"
     ]
    }
   ],
   "source": [
    "print(martificial)"
   ]
  },
  {
   "cell_type": "code",
   "execution_count": 29,
   "metadata": {},
   "outputs": [
    {
     "data": {
      "text/plain": [
       "11.200000000000001"
      ]
     },
     "execution_count": 29,
     "metadata": {},
     "output_type": "execute_result"
    }
   ],
   "source": [
    "getobjectivevalue(martificial)"
   ]
  },
  {
   "cell_type": "code",
   "execution_count": 30,
   "metadata": {},
   "outputs": [
    {
     "data": {
      "text/plain": [
       "6-element Array{Float64,1}:\n",
       " -0.272727 \n",
       " -0.0909091\n",
       "  1.0      \n",
       "  0.0      \n",
       "  1.0      \n",
       "  0.0      "
      ]
     },
     "execution_count": 30,
     "metadata": {},
     "output_type": "execute_result"
    }
   ],
   "source": [
    "dual"
   ]
  },
  {
   "cell_type": "code",
   "execution_count": 31,
   "metadata": {},
   "outputs": [
    {
     "data": {
      "text/plain": [
       "11.200000000000001"
      ]
     },
     "execution_count": 31,
     "metadata": {},
     "output_type": "execute_result"
    }
   ],
   "source": [
    "h = [0 ; 0 ; 0.8*ξ[1]; ξ[1]; 0.8*ξ[2]; ξ[2]]\n",
    "T = [-1.0 0 ; 0 -1.0; 0 0 ; 0 0 ; 0 0; 0 0]\n",
    "D = dual'*T\n",
    "d = dot(dual,h)"
   ]
  },
  {
   "cell_type": "code",
   "execution_count": 32,
   "metadata": {},
   "outputs": [
    {
     "data": {
      "text/latex": [
       "$$ 0.2727272727272727 x_{1} + 0.09090909090909093 x_{2} \\geq 11.200000000000001 $$"
      ],
      "text/plain": [
       "0.2727272727272727 x[1] + 0.09090909090909093 x[2] >= 11.200000000000001"
      ]
     },
     "execution_count": 32,
     "metadata": {},
     "output_type": "execute_result"
    }
   ],
   "source": [
    "@constraint(first, cut, sum(D[i]*x[i] for i = 1:2) >= d)"
   ]
  },
  {
   "cell_type": "code",
   "execution_count": 33,
   "metadata": {},
   "outputs": [
    {
     "data": {
      "text/latex": [
       "$$ \\begin{alignat*}{1}\\min\\quad & 0\\\\\n",
       "\\text{Subject to} \\quad & 0.2727272727272727 x_{1} + 0.09090909090909093 x_{2} \\geq 11.200000000000001\\\\\n",
       " & x_{i} \\geq 0 \\quad\\forall i \\in \\{1,2\\}\\\\\n",
       "\\end{alignat*}\n",
       " $$"
      ],
      "text/plain": [
       "Feasibility problem with:\n",
       " * 1 linear constraint\n",
       " * 2 variables\n",
       "Solver is Gurobi"
      ]
     },
     "execution_count": 33,
     "metadata": {},
     "output_type": "execute_result"
    }
   ],
   "source": [
    "first"
   ]
  },
  {
   "cell_type": "code",
   "execution_count": 36,
   "metadata": {},
   "outputs": [
    {
     "data": {
      "text/plain": [
       "secondStage_artificial_improved (generic function with 1 method)"
      ]
     },
     "execution_count": 36,
     "metadata": {},
     "output_type": "execute_result"
    }
   ],
   "source": [
    "function secondStage_artificial_improved(x::Vector, ξ::Vector)\n",
    "    m = Model(solver = GurobiSolver())\n",
    "\n",
    "    @variable(m,y[1:2])\n",
    "    @variable(m, splus[1:6] >= 0)\n",
    "    @variable(m, sminus[1:6] >= 0)\n",
    "\n",
    "    @constraintref artCons[1:6]\n",
    "    \n",
    "    artCons[1] = @constraint(m, 3y[1]+2y[2]+splus[1]-sminus[1] <= x[1])\n",
    "    artCons[2] = @constraint(m, 2y[1]+5y[2]+splus[2]-sminus[2] <= x[2])\n",
    "    artCons[3] = @constraint(m, y[1]+splus[3]-sminus[3] >= 0.8ξ[1])\n",
    "    artCons[4] = @constraint(m, y[1]+splus[4]-sminus[4] <= ξ[1])\n",
    "    artCons[5] = @constraint(m, y[2]+splus[5]-sminus[5] >= 0.8ξ[2])\n",
    "    artCons[6] = @constraint(m, y[2]+splus[6]-sminus[6] <= ξ[2])\n",
    "\n",
    "    @objective(m,Min, sum(splus[i] for i=1:6)+sum(sminus[i] for i=1:6))\n",
    "    \n",
    "    status = solve(m)\n",
    "\n",
    "    dual = getdual(artCons)\n",
    "\n",
    "    return m, status, dual\n",
    "end"
   ]
  },
  {
   "cell_type": "code",
   "execution_count": 37,
   "metadata": {},
   "outputs": [
    {
     "data": {
      "text/plain": [
       "(Minimization problem with:\n",
       " * 6 linear constraints\n",
       " * 14 variables\n",
       "Solver is Gurobi, :Optimal, [-0.272727, -0.0909091, 1.0, 0.0, 1.0, 0.0])"
      ]
     },
     "execution_count": 37,
     "metadata": {},
     "output_type": "execute_result"
    },
    {
     "name": "stdout",
     "output_type": "stream",
     "text": [
      "Academic license - for non-commercial use only\r\n",
      "Optimize a model with 6 rows, 14 columns and 20 nonzeros\r\n",
      "Coefficient statistics:\r\n",
      "  Matrix range     [1e+00, 5e+00]\r\n",
      "  Objective range  [1e+00, 1e+00]\r\n",
      "  Bounds range     [0e+00, 0e+00]\r\n",
      "  RHS range        [5e+00, 8e+00]\r\n",
      "Presolve removed 4 rows and 12 columns\r\n",
      "Presolve time: 0.00s\r\n",
      "Presolved: 2 rows, 2 columns, 4 nonzeros\r\n",
      "\r\n",
      "Iteration    Objective       Primal Inf.    Dual Inf.      Time\r\n",
      "       0    0.0000000e+00   1.200000e+01   0.000000e+00      0s\r\n",
      "       2    1.1200000e+01   0.000000e+00   0.000000e+00      0s\r\n",
      "\r\n",
      "Solved in 2 iterations and 0.00 seconds\r\n",
      "Optimal objective  1.120000000e+01\r\n"
     ]
    }
   ],
   "source": [
    "martificial, status, dual = secondStage_artificial_improved([0,0],[6,8])"
   ]
  },
  {
   "cell_type": "code",
   "execution_count": 38,
   "metadata": {},
   "outputs": [
    {
     "data": {
      "text/plain": [
       "6-element Array{Float64,1}:\n",
       " -0.272727 \n",
       " -0.0909091\n",
       "  1.0      \n",
       "  0.0      \n",
       "  1.0      \n",
       "  0.0      "
      ]
     },
     "execution_count": 38,
     "metadata": {},
     "output_type": "execute_result"
    }
   ],
   "source": [
    "dual"
   ]
  },
  {
   "cell_type": "code",
   "execution_count": null,
   "metadata": {
    "collapsed": true
   },
   "outputs": [],
   "source": []
  }
 ],
 "metadata": {
  "anaconda-cloud": {},
  "kernelspec": {
   "display_name": "Julia 0.6.2",
   "language": "julia",
   "name": "julia-0.6"
  },
  "language_info": {
   "file_extension": ".jl",
   "mimetype": "application/julia",
   "name": "julia",
   "version": "0.6.2"
  }
 },
 "nbformat": 4,
 "nbformat_minor": 1
}
