{
 "cells": [
  {
   "cell_type": "markdown",
   "metadata": {},
   "source": [
    "# Devoir 2\n",
    "rédigé par Corey Ducharme et Olivier Sirois\n",
    "\n",
    "## Préamble"
   ]
  },
  {
   "cell_type": "code",
   "execution_count": 118,
   "metadata": {},
   "outputs": [],
   "source": [
    "using JuMP\n",
    "using Clp"
   ]
  },
  {
   "cell_type": "markdown",
   "metadata": {},
   "source": [
    "Considérons le problème d'allocation de la demande stochastique.\n",
    "\n",
    "On défini nos variables  \n",
    "\n",
    "$$ X = (x_1, x_2, x_3, x_4)  \\\\\n",
    "B = (10, 7, 16, 6) \\\\\n",
    "Y = \\begin{pmatrix}y_{11} & y_{12} & y_{13} \\\\ y_{21} & y_{22} & y_{23} \\\\ y_{31} & y_{32} & y_{33} \\\\ y_{41} & y_{42} & y_{43}\\end{pmatrix} \\\\\n",
    "A = \\begin{pmatrix}40 & 24 & 4 \\\\ 45 & 27 & 4.5 \\\\ 32 & 19.2 & 3.2 \\\\ 55 & 33 & 5.5\\end{pmatrix} $$\n",
    "\n",
    "où $x_i$ représente la capacité de production de l'usine i,\n",
    "\n",
    "B le vector des coûts de production,\n",
    "\n",
    "$y_{ij}$ la production de glace j dans l'usine i,\n",
    "\n",
    "$a_{ij}$ le cout de production pour la glace j dans l'usine i.\n",
    "\n",
    "Nous posons maintenant le problème d'optimisation.\n",
    "\n",
    "\\begin{align*}\n",
    "    \\min_x\\ & BX^{\\intercal} + E[Q(x)]\\\\\n",
    "    \\mbox{s.t. } & X \\geq \\hat{0} \\\\\n",
    "     & BX^{\\intercal} \\leq 120 \\\\\n",
    "     & Xe \\geq 12\n",
    "\\end{align*}\n",
    "\n",
    "\n",
    "où le problème de 2e étape est \n",
    "\n",
    "\\begin{align*}\n",
    "Q(x) = \\min_y\\ & e^{\\intercal}A \\circ Y e \\\\\n",
    "\\mbox{s.t. } & Ye \\leq X^{\\intercal} \\\\\n",
    "& Y^{\\intercal}e \\geq (\\xi, 3, 2)^{\\intercal}\n",
    "\\end{align*}\n",
    "\n",
    "ici $\\circ$ est le produit d'Hadamard et les opérations d'inégalités ce font éléments par éléments entre deux vecteurs. $e$ est un vecteur colonne unitaire associée à la matrice le précédent."
   ]
  },
  {
   "cell_type": "code",
   "execution_count": 119,
   "metadata": {},
   "outputs": [
    {
     "data": {
      "text/plain": [
       "-Inf"
      ]
     },
     "execution_count": 119,
     "metadata": {},
     "output_type": "execute_result"
    }
   ],
   "source": [
    "# Define the variables\n",
    "scenarios = 3\n",
    "p = [0.3, 0.4, 0.3]\n",
    "ξ = [3, 5, 7]\n",
    "B = [10 7 16 6]\n",
    "A = [40 24 4; 45 27 4.5; 32 19.2 3.2; 55 33 5.5]\n",
    "theta = -Inf"
   ]
  },
  {
   "cell_type": "code",
   "execution_count": 120,
   "metadata": {},
   "outputs": [
    {
     "data": {
      "text/plain": [
       "master (generic function with 1 method)"
      ]
     },
     "execution_count": 120,
     "metadata": {},
     "output_type": "execute_result"
    }
   ],
   "source": [
    "function master(theta)\n",
    "    master = Model(solver=ClpSolver())\n",
    "    \n",
    "    @variable(master, x[1:4] >= 0)\n",
    "    \n",
    "    @constraint(master, sum(x[i]*B[i] for i=1:4) <= 120)\n",
    "    @constraint(master, sum(x[i] for i = 1:4) >= 12)\n",
    "    \n",
    "    @objective(master, Min, sum(x[i]*B[i] for i=1:4) + theta)\n",
    "    \n",
    "    status = solve(master)\n",
    "    \n",
    "    return master, status, getvalue(x)\n",
    "end"
   ]
  },
  {
   "cell_type": "code",
   "execution_count": 121,
   "metadata": {},
   "outputs": [
    {
     "data": {
      "text/plain": [
       "(Minimization problem with:\n",
       " * 2 linear constraints\n",
       " * 4 variables\n",
       "Solver is ClpMathProg, :Optimal, [0.0, 0.0, 0.0, 12.0])"
      ]
     },
     "execution_count": 121,
     "metadata": {},
     "output_type": "execute_result"
    }
   ],
   "source": [
    "master(-Inf)"
   ]
  },
  {
   "cell_type": "code",
   "execution_count": 122,
   "metadata": {},
   "outputs": [
    {
     "data": {
      "text/plain": [
       "secondstage (generic function with 1 method)"
      ]
     },
     "execution_count": 122,
     "metadata": {},
     "output_type": "execute_result"
    }
   ],
   "source": [
    "function secondstage(x::Vector, ξ::Int)\n",
    "    m = Model(solver=ClpSolver())    \n",
    "\n",
    "    @variable(m, y[1:4,1:3] >= 0)\n",
    "    \n",
    "    @constraintref artCons[1:7]\n",
    "\n",
    "    #NOTE : est-ce que la formule du dual va quand meme bien fonctionner si on met notre contrainte comme \n",
    "    #       etant un 'greater then' au lieu d'un 'lesser then' (>= vs. <=) dans le cas de nos contraintes\n",
    "    #       1,2,3 ??\n",
    "    artCons[1] = @constraint(m, sum(y[i,1] for i=1:4) >= ξ)\n",
    "    artCons[2] = @constraint(m, sum(y[i,2] for i=1:4) >= 3)\n",
    "    artCons[3] = @constraint(m, sum(y[i,3] for i=1:4) >= 2)\n",
    "    artCons[4] = @constraint(m, sum(y[1,j] for j=1:3) <= x[1])\n",
    "    artCons[5] = @constraint(m, sum(y[2,j] for j=1:3) <= x[2])\n",
    "    artCons[6] = @constraint(m, sum(y[3,j] for j=1:3) <= x[3])\n",
    "    artCons[7] = @constraint(m, sum(y[4,j] for j=1:3) <= x[4])\n",
    "    \n",
    "    \n",
    "    #for i=1:4\n",
    "    #    @constraint(m, sum(y[i,j] for j=1:3) <= x[i])\n",
    "    #end\n",
    "    \n",
    "    @objective(m, Min, sum(A[i,j]*y[i,j] for i=1:4, j=1:3))\n",
    "    \n",
    "    status = solve(m)\n",
    "    \n",
    "    dual = getdual(artCons)\n",
    "    \n",
    "    \n",
    "    return m, status, getvalue(y), dual\n",
    "end"
   ]
  },
  {
   "cell_type": "code",
   "execution_count": 123,
   "metadata": {},
   "outputs": [
    {
     "data": {
      "text/plain": [
       "(Minimization problem with:\n",
       " * 7 linear constraints\n",
       " * 12 variables\n",
       "Solver is ClpMathProg, :Optimal, [0.0 0.0 0.0; 0.0 0.0 0.0; 0.0 0.0 0.0; 3.0 3.0 2.0], [55.0, 33.0, 5.5, -15.0, -10.0, -23.0, 0.0])"
      ]
     },
     "execution_count": 123,
     "metadata": {},
     "output_type": "execute_result"
    }
   ],
   "source": [
    "martificial, status, y, dual = secondstage([0,0,0,12], 3)"
   ]
  },
  {
   "cell_type": "code",
   "execution_count": 124,
   "metadata": {},
   "outputs": [
    {
     "name": "stdout",
     "output_type": "stream",
     "text": [
      "Min 40 y[1,1] + 24 y[1,2] + 4 y[1,3] + 45 y[2,1] + 27 y[2,2] + 4.5 y[2,3] + 32 y[3,1] + 19.2 y[3,2] + 3.2 y[3,3] + 55 y[4,1] + 33 y[4,2] + 5.5 y[4,3]\n",
      "Subject to\n",
      " y[1,1] + y[2,1] + y[3,1] + y[4,1] ≥ 3\n",
      " y[1,2] + y[2,2] + y[3,2] + y[4,2] ≥ 3\n",
      " y[1,3] + y[2,3] + y[3,3] + y[4,3] ≥ 2\n",
      " y[1,1] + y[1,2] + y[1,3] ≤ 0\n",
      " y[2,1] + y[2,2] + y[2,3] ≤ 0\n",
      " y[3,1] + y[3,2] + y[3,3] ≤ 0\n",
      " y[4,1] + y[4,2] + y[4,3] ≤ 12\n",
      " y[i,j] ≥ 0 ∀ i ∈ {1,2,3,4}, j ∈ {1,2,3}\n"
     ]
    }
   ],
   "source": [
    "print(martificial)"
   ]
  },
  {
   "cell_type": "code",
   "execution_count": 125,
   "metadata": {},
   "outputs": [
    {
     "data": {
      "text/plain": [
       "4×3 Array{Float64,2}:\n",
       " 0.0  0.0  0.0\n",
       " 0.0  0.0  0.0\n",
       " 0.0  0.0  0.0\n",
       " 3.0  3.0  2.0"
      ]
     },
     "execution_count": 125,
     "metadata": {},
     "output_type": "execute_result"
    }
   ],
   "source": [
    "y"
   ]
  },
  {
   "cell_type": "code",
   "execution_count": null,
   "metadata": {},
   "outputs": [],
   "source": []
  },
  {
   "cell_type": "code",
   "execution_count": 126,
   "metadata": {},
   "outputs": [
    {
     "data": {
      "text/plain": [
       "7-element Array{Float64,1}:\n",
       "  55.0\n",
       "  33.0\n",
       "   5.5\n",
       " -15.0\n",
       " -10.0\n",
       " -23.0\n",
       "   0.0"
      ]
     },
     "execution_count": 126,
     "metadata": {},
     "output_type": "execute_result"
    }
   ],
   "source": [
    "dual"
   ]
  },
  {
   "cell_type": "code",
   "execution_count": 152,
   "metadata": {},
   "outputs": [
    {
     "data": {
      "text/plain": [
       "optimalcut (generic function with 4 methods)"
      ]
     },
     "execution_count": 152,
     "metadata": {},
     "output_type": "execute_result"
    }
   ],
   "source": [
    "function optimalcut(x::Vector, ξ::Int, p::Float64, dual::Vector)\n",
    "    h =  [ξ; 3; 2; 0; 0; 0; 0];\n",
    "    T =  [0 0 0 0; 0 0 0 0; 0 0 0 0; -x[1] 0 0 0; 0 -x[2] 0 0; 0 0 -x[3] 0; 0 0 0 -x[4]]   \n",
    "    small_e = p * dot(vec(dual), h)\n",
    "    E = zeros(4)\n",
    "    for i = 1:4\n",
    "        E[i] = p* dot(vec(dual),T[:,i])\n",
    "    end\n",
    "    return small_e, E\n",
    "end\n",
    "\n",
    "#function feascut(x::Vector, ξ::Int)\n",
    "    \n",
    "#end"
   ]
  },
  {
   "cell_type": "code",
   "execution_count": 155,
   "metadata": {},
   "outputs": [
    {
     "name": "stdout",
     "output_type": "stream",
     "text": [
      "petit e = 82.500000;\n"
     ]
    },
    {
     "data": {
      "text/plain": [
       "4-element Array{Float64,1}:\n",
       " 0.0\n",
       " 0.0\n",
       " 0.0\n",
       " 0.0"
      ]
     },
     "execution_count": 155,
     "metadata": {},
     "output_type": "execute_result"
    }
   ],
   "source": [
    "e, E = optimalcut([0,0,0,12], 3, 0.3, dual)\n",
    "@printf(\"petit e = %f;\\n\",a)\n",
    "E"
   ]
  }
 ],
 "metadata": {
  "anaconda-cloud": {},
  "kernelspec": {
   "display_name": "Julia 0.6.2",
   "language": "julia",
   "name": "julia-0.6"
  },
  "language_info": {
   "file_extension": ".jl",
   "mimetype": "application/julia",
   "name": "julia",
   "version": "0.6.2"
  }
 },
 "nbformat": 4,
 "nbformat_minor": 1
}
