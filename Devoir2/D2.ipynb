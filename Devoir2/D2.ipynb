{
 "cells": [
  {
   "cell_type": "markdown",
   "metadata": {},
   "source": [
    "# Devoir 2\n",
    "rédigé par Corey Ducharme et Olivier Sirois\n",
    "\n",
    "## Préamble"
   ]
  },
  {
   "cell_type": "code",
   "execution_count": 1,
   "metadata": {},
   "outputs": [],
   "source": [
    "using JuMP\n",
    "using Clp"
   ]
  },
  {
   "cell_type": "markdown",
   "metadata": {},
   "source": [
    "Considérons le problème d'allocation de la demande stochastique.\n",
    "\n",
    "On défini nos variables  \n",
    "\n",
    "$$ X = (x_1, x_2, x_3, x_4)  \\\\\n",
    "B = (10, 7, 16, 6) \\\\\n",
    "Y = \\begin{pmatrix}y_{11} & y_{12} & y_{13} \\\\ y_{21} & y_{22} & y_{23} \\\\ y_{31} & y_{32} & y_{33} \\\\ y_{41} & y_{42} & y_{43}\\end{pmatrix} \\\\\n",
    "A = \\begin{pmatrix}40 & 24 & 4 \\\\ 45 & 27 & 4.5 \\\\ 32 & 19.2 & 3.2 \\\\ 55 & 33 & 5.5\\end{pmatrix} $$\n",
    "\n",
    "où $x_i$ représente la capacité de production de l'usine i,\n",
    "\n",
    "B le vector des coûts de production,\n",
    "\n",
    "$y_{ij}$ la production de glace j dans l'usine i,\n",
    "\n",
    "$a_{ij}$ le cout de production pour la glace j dans l'usine i.\n",
    "\n",
    "Nous posons maintenant le problème d'optimisation.\n",
    "\n",
    "\\begin{align*}\n",
    "    \\min_x\\ & BX^{\\intercal} + E[Q(x)]\\\\\n",
    "    \\mbox{s.t. } & X \\geq \\hat{0} \\\\\n",
    "     & BX^{\\intercal} \\leq 120 \\\\\n",
    "     & Xe \\geq 12\n",
    "\\end{align*}\n",
    "\n",
    "\n",
    "où le problème de 2e étape est \n",
    "\n",
    "\\begin{align*}\n",
    "Q(x) = \\min_y\\ & e^{\\intercal}A \\circ Y e \\\\\n",
    "\\mbox{s.t. } & Ye \\leq X^{\\intercal} \\\\\n",
    "& Y^{\\intercal}e \\geq (\\xi, 3, 2)^{\\intercal}\n",
    "\\end{align*}\n",
    "\n",
    "ici $\\circ$ est le produit d'Hadamard et les opérations d'ingéalités ce font éléments par éléments entre deux vecteurs. $e$ est un vecteur colonne unitaire associée à la matrice le précédent."
   ]
  },
  {
   "cell_type": "code",
   "execution_count": 2,
   "metadata": {},
   "outputs": [
    {
     "data": {
      "text/plain": [
       "-Inf"
      ]
     },
     "execution_count": 2,
     "metadata": {},
     "output_type": "execute_result"
    }
   ],
   "source": [
    "# Define the variables\n",
    "scenarios = 3\n",
    "p = [0.3, 0.4, 0.3]\n",
    "ξ = [3, 5, 7]\n",
    "B = [10 7 16 6]\n",
    "A = [40 24 4; 45 27 4.5; 32 19.2 3.2; 55 33 5.5]\n",
    "theta = -Inf"
   ]
  },
  {
   "cell_type": "code",
   "execution_count": 32,
   "metadata": {},
   "outputs": [
    {
     "data": {
      "text/plain": [
       "master (generic function with 1 method)"
      ]
     },
     "execution_count": 32,
     "metadata": {},
     "output_type": "execute_result"
    }
   ],
   "source": [
    "function master(theta)\n",
    "    master = Model(solver=ClpSolver())\n",
    "    \n",
    "    @variable(master, x[1:4] >= 0)\n",
    "    \n",
    "    @constraint(master, sum(x[i]*B[i] for i=1:4) <= 120)\n",
    "    @constraint(master, sum(x[i] for i = 1:4) >= 12)\n",
    "    \n",
    "    @objective(master, Min, sum(x[i]*B[i] for i=1:4) + theta)\n",
    "    \n",
    "    status = solve(master)\n",
    "    \n",
    "    return master, status, getvalue(x)\n",
    "end"
   ]
  },
  {
   "cell_type": "code",
   "execution_count": 33,
   "metadata": {},
   "outputs": [
    {
     "data": {
      "text/plain": [
       "(Minimization problem with:\n",
       " * 2 linear constraints\n",
       " * 4 variables\n",
       "Solver is ClpMathProg, :Optimal, [0.0, 0.0, 0.0, 12.0])"
      ]
     },
     "execution_count": 33,
     "metadata": {},
     "output_type": "execute_result"
    }
   ],
   "source": [
    "master(-Inf)"
   ]
  },
  {
   "cell_type": "code",
   "execution_count": 43,
   "metadata": {},
   "outputs": [
    {
     "data": {
      "text/plain": [
       "secondstage (generic function with 1 method)"
      ]
     },
     "execution_count": 43,
     "metadata": {},
     "output_type": "execute_result"
    }
   ],
   "source": [
    "function secondstage(x::Vector, ξ::Int)\n",
    "    m = Model(solver=ClpSolver())    \n",
    "\n",
    "    @variable(m, y[1:4,1:3] >= 0)\n",
    "\n",
    "    @constraint(m, sum(y[i,1] for i=1:4) >= ξ)\n",
    "    @constraint(m, sum(y[i,2] for i=1:4) >= 3)\n",
    "    @constraint(m, sum(y[i,3] for i=1:4) >= 2)\n",
    "    for i=1:4\n",
    "        @constraint(m, sum(y[i,j] for j=1:3) <= x[i])\n",
    "    end\n",
    "    \n",
    "    @objective(m, Min, sum(A[i,j]*y[i,j] for i=1:4, j=1:3))\n",
    "    \n",
    "    status = solve(m)\n",
    "    \n",
    "    #dual = getdual(artCons)\n",
    "    \n",
    "    return m, status, getvalue(y)\n",
    "end"
   ]
  },
  {
   "cell_type": "code",
   "execution_count": 44,
   "metadata": {},
   "outputs": [
    {
     "data": {
      "text/plain": [
       "(Minimization problem with:\n",
       " * 7 linear constraints\n",
       " * 12 variables\n",
       "Solver is ClpMathProg, :Optimal, [0.0 0.0 0.0; 0.0 0.0 0.0; 0.0 0.0 0.0; 3.0 3.0 2.0])"
      ]
     },
     "execution_count": 44,
     "metadata": {},
     "output_type": "execute_result"
    }
   ],
   "source": [
    "martificial, status, y = secondstage([0,0,0,12], 3)"
   ]
  },
  {
   "cell_type": "code",
   "execution_count": 46,
   "metadata": {},
   "outputs": [
    {
     "name": "stdout",
     "output_type": "stream",
     "text": [
      "Min 40 y[1,1] + 24 y[1,2] + 4 y[1,3] + 45 y[2,1] + 27 y[2,2] + 4.5 y[2,3] + 32 y[3,1] + 19.2 y[3,2] + 3.2 y[3,3] + 55 y[4,1] + 33 y[4,2] + 5.5 y[4,3]\n",
      "Subject to\n",
      " y[1,1] + y[2,1] + y[3,1] + y[4,1] ≥ 3\n",
      " y[1,2] + y[2,2] + y[3,2] + y[4,2] ≥ 3\n",
      " y[1,3] + y[2,3] + y[3,3] + y[4,3] ≥ 2\n",
      " y[1,1] + y[1,2] + y[1,3] ≤ 0\n",
      " y[2,1] + y[2,2] + y[2,3] ≤ 0\n",
      " y[3,1] + y[3,2] + y[3,3] ≤ 0\n",
      " y[4,1] + y[4,2] + y[4,3] ≤ 12\n",
      " y[i,j] ≥ 0 ∀ i ∈ {1,2,3,4}, j ∈ {1,2,3}\n"
     ]
    }
   ],
   "source": [
    "print(martificial)"
   ]
  },
  {
   "cell_type": "code",
   "execution_count": 45,
   "metadata": {},
   "outputs": [
    {
     "data": {
      "text/plain": [
       "4×3 Array{Float64,2}:\n",
       " 0.0  0.0  0.0\n",
       " 0.0  0.0  0.0\n",
       " 0.0  0.0  0.0\n",
       " 3.0  3.0  2.0"
      ]
     },
     "execution_count": 45,
     "metadata": {},
     "output_type": "execute_result"
    }
   ],
   "source": [
    "y"
   ]
  },
  {
   "cell_type": "code",
   "execution_count": null,
   "metadata": {},
   "outputs": [],
   "source": [
    "function optimalcut(x::Vector, ξ::Int)"
   ]
  }
 ],
 "metadata": {
  "anaconda-cloud": {},
  "kernelspec": {
   "display_name": "Julia 0.6.2",
   "language": "julia",
   "name": "julia-0.6"
  },
  "language_info": {
   "file_extension": ".jl",
   "mimetype": "application/julia",
   "name": "julia",
   "version": "0.6.2"
  }
 },
 "nbformat": 4,
 "nbformat_minor": 1
}
