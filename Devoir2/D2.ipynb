{
 "cells": [
  {
   "cell_type": "markdown",
   "metadata": {},
   "source": [
    "# Devoir 2\n",
    "rédigé par Corey Ducharme et Olivier Sirois\n",
    "\n",
    "## Préamble"
   ]
  },
  {
   "cell_type": "code",
   "execution_count": 1,
   "metadata": {},
   "outputs": [],
   "source": [
    "using JuMP\n",
    "using Clp"
   ]
  },
  {
   "cell_type": "markdown",
   "metadata": {},
   "source": [
    "Considérons le problème d'allocation de la demande stochastique.\n",
    "\n",
    "## Probèle avec décisions matriciel\n",
    "Définissons notre problème intuitivement sous forme matricielle.\n",
    "\n",
    "On défini nos variables\n",
    "$$ x = (x_1, x_2, x_3, x_4)^{\\intercal}   \\\\\n",
    "B = (10, 7, 16, 6)^{\\intercal}  \\\\ \n",
    "y_{mat} = \\begin{pmatrix}y_{11} & y_{12} & y_{13} \\\\ y_{21} & y_{22} & y_{23} \\\\ y_{31} & y_{32} & y_{33} \\\\ y_{41} & y_{42} & y_{43}\\end{pmatrix} \\\\ \n",
    "A_{mat} = \\begin{pmatrix}40 & 24 & 4 \\\\ 45 & 27 & 4.5 \\\\ 32 & 19.2 & 3.2 \\\\ 55 & 33 & 5.5\\end{pmatrix} $$\n",
    "\n",
    "où $x_i$ représente la capacité de production de l'usine i,\n",
    "\n",
    "B le vector des coûts de production,\n",
    "\n",
    "$y_{ij}$ la production de glace j dans l'usine i,\n",
    "\n",
    "$a_{ij}$ le cout de production pour la glace j dans l'usine i.\n",
    "\n",
    "Nous posons maintenant le problème d'optimisation.\n",
    "\n",
    "$$\\begin{align*} \\min_x\\ & B^{\\intercal}x + E[Q(x)]\\\\ \\mbox{s.t. } & x \\geq 0 \\\\ & B^{\\intercal}x \\leq 120 \\\\ & e^{\\intercal}x \\geq 12 \\end{align*}$$\n",
    "\n",
    "où le problème de 2e étape est\n",
    "$$\\begin{align*} Q(x) = \\min_y\\ & e^{\\intercal}A_{mat} \\circ y_{mat} e \\\\ \\mbox{s.t. } & y_{mat}e \\leq x \\\\ & y_{mat}^{\\intercal}e \\geq (\\xi, 3, 2)^{\\intercal} \\end{align*}$$\n",
    "\n",
    "ici $\\circ$ est le produit d'Hadamard et les opérations d'inégalités ce font éléments par éléments entre deux vecteurs. $e$ est un vecteur colonne unitaire associée à la matrice le précédent."
   ]
  },
  {
   "cell_type": "markdown",
   "metadata": {},
   "source": [
    "## Problème avec décision vectorielle\n",
    "\n",
    "Par contre, dans notre théorie du cours, nous avons vue que la décision est toujours prises comme étant un vecteur. Celà est du à la formulation des W, h et T que nous aurons besoin dans le calcul des coupes. Dans la formulation précédente, nous avons décider intuitivement d'utiliser une formulation avec des matrices de décision. Cela est du à la facilité de pouvoir associer $y_{ij}$ à la glace j dans l'usine i. Nous récrivons notre problème cette fois sous forme vectorielle.\n",
    "\n",
    "$$ x = (x_1, x_2, x_3, x_4)^{\\intercal}   \\\\\n",
    "B = (10, 7, 16, 6)^{\\intercal}  \\\\\n",
    "y_{vec}= (y_1, y_2, y_3, y_4, y_5, y_6, y_7, y_8, y_9, y_{10}, y_{11}, y_{12})^{\\intercal} \\\\\n",
    "A_{vec} = (40, 24 , 4, 45 , 27 , 4.5 , 32 , 19.2 , 3.2 , 55 , 33 , 5.5)^{\\intercal} $$\n",
    "\n",
    "où $x_i$ représente la capacité de production de l'usine i,\n",
    "\n",
    "B le vector des coûts de production,\n",
    "\n",
    "$y_1, y_2, y_3$ est la production de la saveur 1, 2 et 3 dans l'usine 1 respectivement,\n",
    "\n",
    "$y_4, y_5, y_6$ est la production de la saveur 1, 2 et 3 dans l'usine 2,\n",
    "\n",
    "et ainsi de suite.\n",
    "\n",
    "Nous pouvons écrire la relation suivante\n",
    "\n",
    "$y_{j}$ la production de la saveur $\\mod(j-1, 3) + 1$ dans l'usine $\\lceil \\frac{j-1}{3} \\rceil + 1$\n",
    "\n",
    "$a_{j}$ le cout de production des saveurs définie de manière identique à y.\n",
    "\n",
    "Nous posons maintenant le problème d'optimisation.\n",
    "\n",
    "\\begin{align*}\n",
    "    \\min_x\\ & B^{\\intercal} x + E[Q(x)]\\\\\n",
    "    \\mbox{s.t. } & x \\geq 0 \\\\\n",
    "     & B^{\\intercal}x \\leq 120 \\\\\n",
    "     & e^{\\intercal}x \\geq 12\n",
    "\\end{align*}\n",
    "\n",
    "\\begin{align*}\n",
    "Q(x) &= A_{vec}^{\\intercal}y_{vec}\\\\\n",
    "\\mbox{s.t. } & Wy_{vec}= h(\\xi) + Tx\n",
    "\\end{align*}\n",
    "\n",
    "où\n",
    "\n",
    "$W = \\begin{pmatrix}\n",
    "1 & 1 & 1 & 0 & 0 & 0 & 0 & 0 & 0 & 0 & 0 & 0 \\\\\n",
    "0 & 0 & 0 & 1 & 1 & 1 & 0 & 0 & 0 & 0 & 0 & 0 \\\\\n",
    "0 & 0 & 0 & 0 & 0 & 0 & 1 & 1 & 1 & 0 & 0 & 0 \\\\\n",
    "0 & 0 & 0 & 0 & 0 & 0 & 0 & 0 & 0 & 1 & 1 & 1 \\\\\n",
    "1 & 0 & 0 & 1 & 0 & 0 & 1 & 0 & 0 & 1 & 0 & 0 \\\\\n",
    "0 & 1 & 0 & 0 & 1 & 0 & 0 & 1 & 0 & 0 & 1 & 0 \\\\\n",
    "0 & 0 & 1 & 0 & 0 & 1 & 0 & 0 & 1 & 0 & 0 & 1\n",
    "\\end{pmatrix}$\n",
    "\n",
    "$ h(\\xi) = \\begin{pmatrix} 0 & 0 & 0 & 0 & \\xi & 3 & 2 \\end{pmatrix} ^{\\intercal}$\n",
    "\n",
    "$ T = \\begin{pmatrix}\n",
    "1 & 0 & 0 & 0 \\\\\n",
    "0 & 1 & 0 & 0 \\\\\n",
    "0 & 0 & 1 & 0 \\\\\n",
    "0 & 0 & 0 & 1 \\\\\n",
    "0 & 0 & 0 & 0 \\\\\n",
    "0 & 0 & 0 & 0 \\\\\n",
    "0 & 0 & 0 & 0\n",
    "\\end{pmatrix}$"
   ]
  },
  {
   "cell_type": "code",
   "execution_count": 2,
   "metadata": {},
   "outputs": [
    {
     "data": {
      "text/plain": [
       "7×4 Array{Int64,2}:\n",
       " 1  0  0  0\n",
       " 0  1  0  0\n",
       " 0  0  1  0\n",
       " 0  0  0  1\n",
       " 0  0  0  0\n",
       " 0  0  0  0\n",
       " 0  0  0  0"
      ]
     },
     "execution_count": 2,
     "metadata": {},
     "output_type": "execute_result"
    }
   ],
   "source": [
    "# Définition des variables du problème\n",
    "scenarios = 3\n",
    "p = [0.3, 0.4, 0.3]\n",
    "ξ = [3, 5, 7]\n",
    "B = [10 7 16 6]\n",
    "A_mat = [40 24 4; 45 27 4.5; 32 19.2 3.2; 55 33 5.5]\n",
    "A_vec = [40 24 4 45 27 4.5 32 19.2 3.2 55 33 5.5]\n",
    "W = [1 1 1 0 0 0 0 0 0 0 0 0;\n",
    "     0 0 0 1 1 1 0 0 0 0 0 0;\n",
    "     0 0 0 0 0 0 1 1 1 0 0 0;\n",
    "     0 0 0 0 0 0 0 0 0 1 1 1;\n",
    "     1 0 0 1 0 0 1 0 0 1 0 0;\n",
    "     0 1 0 0 1 0 0 1 0 0 1 0;\n",
    "     0 0 1 0 0 1 0 0 1 0 0 1]\n",
    "T = [1 0 0 0;\n",
    "     0 1 0 0;\n",
    "     0 0 1 0;\n",
    "     0 0 0 1;\n",
    "     0 0 0 0;\n",
    "     0 0 0 0;\n",
    "     0 0 0 0]\n",
    "#theta = -Inf"
   ]
  },
  {
   "cell_type": "code",
   "execution_count": 3,
   "metadata": {},
   "outputs": [
    {
     "data": {
      "text/plain": [
       "master (generic function with 1 method)"
      ]
     },
     "execution_count": 3,
     "metadata": {},
     "output_type": "execute_result"
    }
   ],
   "source": [
    "function master(theta)\n",
    "    master = Model(solver=ClpSolver())\n",
    "    \n",
    "    @variable(master, x[1:4] >= 0)\n",
    "    \n",
    "    @constraint(master, sum(x[i]*B[i] for i=1:4) <= 120)\n",
    "    @constraint(master, sum(x[i] for i = 1:4) >= 12)\n",
    "    \n",
    "    @objective(master, Min, sum(x[i]*B[i] for i=1:4) + theta)\n",
    "    \n",
    "    status = solve(master)\n",
    "    \n",
    "    return master, status, getvalue(x)\n",
    "end"
   ]
  },
  {
   "cell_type": "markdown",
   "metadata": {},
   "source": [
    "Testons notre problème master sans l'influence de theta"
   ]
  },
  {
   "cell_type": "code",
   "execution_count": 4,
   "metadata": {},
   "outputs": [
    {
     "name": "stdout",
     "output_type": "stream",
     "text": [
      "[0.0, 0.0, 0.0, 12.0]\n"
     ]
    }
   ],
   "source": [
    "test, stat, x = master(-Inf)\n",
    "println(x)"
   ]
  },
  {
   "cell_type": "markdown",
   "metadata": {},
   "source": [
    "Nous écrivons maintenant notre fonction pour générer et cacluler notre problème de deuxième étape. Avec JuMP, il est facile d'écire un modèle avec une matrice de variables de décision comme nous pouvons constater dans le code suivant."
   ]
  },
  {
   "cell_type": "code",
   "execution_count": 5,
   "metadata": {},
   "outputs": [
    {
     "data": {
      "text/plain": [
       "secondstage_mat (generic function with 1 method)"
      ]
     },
     "execution_count": 5,
     "metadata": {},
     "output_type": "execute_result"
    }
   ],
   "source": [
    "function secondstage_mat(x::Vector, ξ::Int)\n",
    "    m = Model(solver=ClpSolver())    \n",
    "\n",
    "    @variable(m, y[1:4,1:3] >= 0)\n",
    "    \n",
    "    @constraintref artCons[1:7]\n",
    "    artCons[1] = @constraint(m, sum(y[1,j] for j=1:3) <= x[1])\n",
    "    artCons[2] = @constraint(m, sum(y[2,j] for j=1:3) <= x[2])\n",
    "    artCons[3] = @constraint(m, sum(y[3,j] for j=1:3) <= x[3])\n",
    "    artCons[4] = @constraint(m, sum(y[4,j] for j=1:3) <= x[4])\n",
    "    artCons[5] = @constraint(m, sum(y[i,1] for i=1:4) >= ξ)\n",
    "    artCons[6] = @constraint(m, sum(y[i,2] for i=1:4) >= 3)\n",
    "    artCons[7] = @constraint(m, sum(y[i,3] for i=1:4) >= 2)\n",
    "        \n",
    "    @objective(m, Min, sum(A_mat[i,j]*y[i,j] for i=1:4, j=1:3))\n",
    "    \n",
    "    status = solve(m)\n",
    "    \n",
    "    dual = getdual(artCons)\n",
    "    \n",
    "    \n",
    "    return m, status, getvalue(y), dual\n",
    "end"
   ]
  },
  {
   "cell_type": "markdown",
   "metadata": {},
   "source": [
    "Comparons la formulation avec matrice de décision à une formulation de vecteur de décision et observons ce que JuMP va nous donner pour le vecteur dual."
   ]
  },
  {
   "cell_type": "code",
   "execution_count": 6,
   "metadata": {},
   "outputs": [
    {
     "data": {
      "text/plain": [
       "secondstage_vec (generic function with 1 method)"
      ]
     },
     "execution_count": 6,
     "metadata": {},
     "output_type": "execute_result"
    }
   ],
   "source": [
    "function secondstage_vec(x::Vector, ξ::Int)\n",
    "    m = Model(solver=ClpSolver())    \n",
    "\n",
    "    \n",
    "    @variable(m, y[1:12] >= 0)\n",
    "    \n",
    "    @constraintref artCons[1:7]\n",
    "    artCons[1] = @constraint(m, sum(y[j] for j=1:3) <= x[1])\n",
    "    artCons[2] = @constraint(m, sum(y[j] for j=4:6) <= x[2])\n",
    "    artCons[3] = @constraint(m, sum(y[j] for j=7:9) <= x[3])\n",
    "    artCons[4] = @constraint(m, sum(y[j] for j=10:12) <= x[4])\n",
    "    artCons[5] = @constraint(m, y[1] + y[4] + y[7] + y[10] >= ξ)\n",
    "    artCons[6] = @constraint(m, y[2] + y[5] + y[8] + y[11] >= 3)\n",
    "    artCons[7] = @constraint(m, y[3] + y[6] + y[9] + y[12] >= 2)\n",
    "       \n",
    "    @objective(m, Min, sum(A_vec*y))\n",
    "    \n",
    "    status = solve(m)\n",
    "    \n",
    "    dual = getdual(artCons)  \n",
    "    \n",
    "    return m, status, getvalue(y), dual\n",
    "end"
   ]
  },
  {
   "cell_type": "code",
   "execution_count": 7,
   "metadata": {},
   "outputs": [
    {
     "data": {
      "text/plain": [
       "(Minimization problem with:\n",
       " * 7 linear constraints\n",
       " * 12 variables\n",
       "Solver is ClpMathProg, :Optimal, [0.0 0.0 0.0; 0.0 0.0 0.0; 0.0 0.0 0.0; 3.0 3.0 2.0], [-15.0, -10.0, -23.0, 0.0, 55.0, 33.0, 5.5])"
      ]
     },
     "execution_count": 7,
     "metadata": {},
     "output_type": "execute_result"
    }
   ],
   "source": [
    "martificial_mat, status_mat, value_y_mat, dual_mat = secondstage_mat([0,0,0,12], 3)"
   ]
  },
  {
   "cell_type": "code",
   "execution_count": 8,
   "metadata": {},
   "outputs": [
    {
     "data": {
      "text/plain": [
       "(Minimization problem with:\n",
       " * 7 linear constraints\n",
       " * 12 variables\n",
       "Solver is ClpMathProg, :Optimal, [0.0, 0.0, 0.0, 0.0, 0.0, 0.0, 0.0, 0.0, 0.0, 3.0, 3.0, 2.0], [-15.0, -10.0, -23.0, 0.0, 55.0, 33.0, 5.5])"
      ]
     },
     "execution_count": 8,
     "metadata": {},
     "output_type": "execute_result"
    }
   ],
   "source": [
    "martificial_vec, status_vec, value_y_vec, dual_vec = secondstage_vec([0,0,0,12], 3)"
   ]
  },
  {
   "cell_type": "code",
   "execution_count": 9,
   "metadata": {},
   "outputs": [
    {
     "name": "stdout",
     "output_type": "stream",
     "text": [
      "Min 40 y[1,1] + 24 y[1,2] + 4 y[1,3] + 45 y[2,1] + 27 y[2,2] + 4.5 y[2,3] + 32 y[3,1] + 19.2 y[3,2] + 3.2 y[3,3] + 55 y[4,1] + 33 y[4,2] + 5.5 y[4,3]\n",
      "Subject to\n",
      " y[1,1] + y[1,2] + y[1,3] ≤ 0\n",
      " y[2,1] + y[2,2] + y[2,3] ≤ 0\n",
      " y[3,1] + y[3,2] + y[3,3] ≤ 0\n",
      " y[4,1] + y[4,2] + y[4,3] ≤ 12\n",
      " y[1,1] + y[2,1] + y[3,1] + y[4,1] ≥ 3\n",
      " y[1,2] + y[2,2] + y[3,2] + y[4,2] ≥ 3\n",
      " y[1,3] + y[2,3] + y[3,3] + y[4,3] ≥ 2\n",
      " y[i,j] ≥ 0 ∀ i ∈ {1,2,3,4}, j ∈ {1,2,3}\n"
     ]
    }
   ],
   "source": [
    "print(martificial_mat)"
   ]
  },
  {
   "cell_type": "code",
   "execution_count": 10,
   "metadata": {},
   "outputs": [
    {
     "name": "stdout",
     "output_type": "stream",
     "text": [
      "[-15.0, -10.0, -23.0, 0.0, 55.0, 33.0, 5.5]"
     ]
    }
   ],
   "source": [
    "print(dual_mat)"
   ]
  },
  {
   "cell_type": "code",
   "execution_count": 11,
   "metadata": {},
   "outputs": [
    {
     "name": "stdout",
     "output_type": "stream",
     "text": [
      "Min 40 y[1] + 24 y[2] + 4 y[3] + 45 y[4] + 27 y[5] + 4.5 y[6] + 32 y[7] + 19.2 y[8] + 3.2 y[9] + 55 y[10] + 33 y[11] + 5.5 y[12]\n",
      "Subject to\n",
      " y[1] + y[2] + y[3] ≤ 0\n",
      " y[4] + y[5] + y[6] ≤ 0\n",
      " y[7] + y[8] + y[9] ≤ 0\n",
      " y[10] + y[11] + y[12] ≤ 12\n",
      " y[1] + y[4] + y[7] + y[10] ≥ 3\n",
      " y[2] + y[5] + y[8] + y[11] ≥ 3\n",
      " y[3] + y[6] + y[9] + y[12] ≥ 2\n",
      " y[i] ≥ 0 ∀ i ∈ {1,2,…,11,12}\n"
     ]
    }
   ],
   "source": [
    "print(martificial_vec)"
   ]
  },
  {
   "cell_type": "code",
   "execution_count": 12,
   "metadata": {},
   "outputs": [
    {
     "name": "stdout",
     "output_type": "stream",
     "text": [
      "[-15.0, -10.0, -23.0, 0.0, 55.0, 33.0, 5.5]"
     ]
    }
   ],
   "source": [
    "print(dual_vec)"
   ]
  },
  {
   "cell_type": "markdown",
   "metadata": {},
   "source": [
    "Nous observons que Julia donne exactement les mêmes vecteurs dual que le problème soit avec y vectorielle ou matricielle. Nous assumons que ceci est une fonctionnalité de JuMP. Nous allons donc continuer de travailler avec la formulation matricielle du problème puisque celle-ci est plus jolie. Nous devons juste nous assurer de bien écrire nos vecteurs W, h et T selon la formulation des contraintes."
   ]
  },
  {
   "cell_type": "code",
   "execution_count": 85,
   "metadata": {},
   "outputs": [
    {
     "data": {
      "text/plain": [
       "secondstage_feasability (generic function with 1 method)"
      ]
     },
     "execution_count": 85,
     "metadata": {},
     "output_type": "execute_result"
    }
   ],
   "source": [
    "function secondstage_feasability(x::Vector, ξ::Int)\n",
    "    m = Model(solver = ClpSolver())\n",
    "\n",
    "    @variable(m, y[1:4,1:3] >= 0)\n",
    "    @variable(m, splus[1:7] >= 0)\n",
    "    @variable(m, sminus[1:7] >= 0)\n",
    "\n",
    "    @constraintref artCons[1:7]\n",
    "    artCons[1] = @constraint(m, sum(y[1,j] for j=1:3) + splus[1] - sminus[1] <= x[1])\n",
    "    artCons[2] = @constraint(m, sum(y[2,j] for j=1:3) + splus[2] - sminus[2] <= x[2])\n",
    "    artCons[3] = @constraint(m, sum(y[3,j] for j=1:3) + splus[3] - sminus[3] <= x[3])\n",
    "    artCons[4] = @constraint(m, sum(y[4,j] for j=1:3) + splus[4] - sminus[4] <= x[4])\n",
    "    artCons[5] = @constraint(m, sum(y[i,1] for i=1:4) + splus[5] - sminus[5] >= ξ)\n",
    "    artCons[6] = @constraint(m, sum(y[i,2] for i=1:4) + splus[6] - sminus[6] >= 3)\n",
    "    artCons[7] = @constraint(m, sum(y[i,3] for i=1:4) + splus[7] - sminus[7] >= 2)\n",
    "    \n",
    "    @objective(m, Min, sum(splus[i] for i=1:7)+sum(sminus[i] for i=1:7))\n",
    "    \n",
    "    status = solve(m)\n",
    "\n",
    "    dual = getdual(artCons)\n",
    "\n",
    "    return m, status, getobjectivevalue(m), dual\n",
    "end"
   ]
  },
  {
   "cell_type": "code",
   "execution_count": 86,
   "metadata": {},
   "outputs": [
    {
     "data": {
      "text/plain": [
       "optimalcut (generic function with 1 method)"
      ]
     },
     "execution_count": 86,
     "metadata": {},
     "output_type": "execute_result"
    }
   ],
   "source": [
    "function optimalcut(x::Vector, ξ::Int, p::Float64, dual::Vector)\n",
    "    h =  [0; 0; 0; 0; ξ; 3; 2];\n",
    "    T =  [-x[1] 0 0 0; 0 -x[2] 0 0; 0 0 -x[3] 0; 0 0 0 -x[4]; 0 0 0 0; 0 0 0 0; 0 0 0 0]   \n",
    "    e = p * dual'* h\n",
    "    E = p * dual'*T\n",
    "    return E, e\n",
    "end"
   ]
  },
  {
   "cell_type": "code",
   "execution_count": 203,
   "metadata": {},
   "outputs": [
    {
     "data": {
      "text/plain": [
       "([0.0 0.0 0.0 0.0], 137.5)"
      ]
     },
     "execution_count": 203,
     "metadata": {},
     "output_type": "execute_result"
    }
   ],
   "source": [
    "optimalcut([0,0,0,12], 3, 0.5, dual)"
   ]
  },
  {
   "cell_type": "code",
   "execution_count": 83,
   "metadata": {},
   "outputs": [
    {
     "data": {
      "text/plain": [
       "feascut (generic function with 1 method)"
      ]
     },
     "execution_count": 83,
     "metadata": {},
     "output_type": "execute_result"
    }
   ],
   "source": [
    "function feascut(x::Vector, ξ::Int, dual::Vector)\n",
    "    h =  [ 0; 0; 0; 0; ξ; 3; 2]\n",
    "    T =  [-x[1] 0 0 0; 0 -x[2] 0 0; 0 0 -x[3] 0; 0 0 0 -x[4]; 0 0 0 0; 0 0 0 0; 0 0 0 0] \n",
    "    D = dual'*T\n",
    "    d = dual'*h\n",
    "    return D, d\n",
    "end"
   ]
  },
  {
   "cell_type": "code",
   "execution_count": 156,
   "metadata": {},
   "outputs": [
    {
     "data": {
      "text/plain": [
       "4-element Array{Float64,1}:\n",
       "  0.0\n",
       "  0.0\n",
       "  0.0\n",
       " 12.0"
      ]
     },
     "execution_count": 156,
     "metadata": {},
     "output_type": "execute_result"
    }
   ],
   "source": [
    "K = 0\n",
    "L = 0\n",
    "stop = 0\n",
    "p = [0.3 0.4 0.3]\n",
    "ξ = [3 5 7]\n",
    "optconstraintcounter = 1\n",
    "feasconstraintcounter = 1\n",
    "interation = 0\n",
    "\n",
    "mas = Model(solver=ClpSolver())\n",
    "\n",
    "@variable(mas, x[1:4] >= 0)\n",
    "\n",
    "# malheureusement, nous ne pouvons pas utiliser la valeur de -Inf sinon le probleme est non borne\n",
    "@variable(mas, theta >= -99999999999999) \n",
    "\n",
    "@constraint(mas, sum(x[i]*B[i] for i=1:4) <= 120)\n",
    "@constraint(mas, sum(x[i] for i = 1:4) >= 12)\n",
    "    \n",
    "@objective(mas, Min, sum(x[i]*B[i] for i=1:4) + theta)\n",
    "    \n",
    "status = solve(mas)\n",
    "Q_rond = getobjectivevalue(mas)\n",
    "a = getvalue(x)"
   ]
  },
  {
   "cell_type": "code",
   "execution_count": 165,
   "metadata": {},
   "outputs": [
    {
     "name": "stdout",
     "output_type": "stream",
     "text": [
      "457.000000\n"
     ]
    }
   ],
   "source": [
    "@printf(\"%f\\n\",Q_rond)\n",
    "if (status == :Infeasible)\n",
    "    stop = 1\n",
    "    println(\"Problem is infeasible.\")\n",
    "end"
   ]
  },
  {
   "cell_type": "code",
   "execution_count": 166,
   "metadata": {},
   "outputs": [],
   "source": [
    "#while (stop == 0)\n",
    "    x_mod = getvalue(x)\n",
    "    ### On fait une coupe de faisabiliter si necessaire et on recommence jusqu'a temps qu'on ne peut plus.\n",
    "\n",
    "    obj = 0\n",
    "    for i = 1:3\n",
    "        m, status, temp_obj, dual = secondstage_feasability(x_mod, ξ[i])\n",
    "        \n",
    "        #println(tmp_d)\n",
    "        #println(tmp_D)\n",
    "        obj += temp_obj\n",
    "        \n",
    "        if (temp_obj > 0)\n",
    "            tmp_D, tmp_d = feascut(x_mod, realisation[i], dual)\n",
    "            @constraint(mas, cut[constraintcounter], sum(big_sig[i]*x[i] for i = 1:4) >= small_sig)\n",
    "            feasconstraintcounter += 1\n",
    "        end\n",
    "    end"
   ]
  },
  {
   "cell_type": "code",
   "execution_count": 167,
   "metadata": {},
   "outputs": [
    {
     "name": "stdout",
     "output_type": "stream",
     "text": [
      "0.0"
     ]
    }
   ],
   "source": [
    "print(obj)"
   ]
  },
  {
   "cell_type": "code",
   "execution_count": 168,
   "metadata": {},
   "outputs": [
    {
     "ename": "LoadError",
     "evalue": "\u001b[91msyntax: incomplete: premature end of input\u001b[39m",
     "output_type": "error",
     "traceback": [
      "\u001b[91msyntax: incomplete: premature end of input\u001b[39m",
      ""
     ]
    }
   ],
   "source": [
    "    ### Coupe d'optimalité\n",
    "    if(obj == 0)  "
   ]
  },
  {
   "cell_type": "code",
   "execution_count": 169,
   "metadata": {},
   "outputs": [
    {
     "data": {
      "text/plain": [
       "385.0"
      ]
     },
     "execution_count": 169,
     "metadata": {},
     "output_type": "execute_result"
    }
   ],
   "source": [
    "        # il n'y a pas eu de coupe de faisabilité puisque tout les valuers objective était nul\n",
    "        # on commence nos coupes d'optimalitées\n",
    "        E = [0 0 0 0]\n",
    "        e = 0\n",
    "        #on accumule E et e pour tous les realisation (pour faire la sommation)\n",
    "        for i=1:3\n",
    "            m, status, y, dual = secondstage_mat(x_mod, ξ[i])\n",
    "            temp_E, temp_e = optimalcut(x_mod, ξ[i], p[i], dual)\n",
    "            E += temp_E\n",
    "            e += temp_e    \n",
    "        end\n",
    "        #on calcule notre q_rond\n",
    "        Q_rond = e - dot(E, x_mod)\n",
    "    "
   ]
  },
  {
   "cell_type": "code",
   "execution_count": 201,
   "metadata": {},
   "outputs": [
    {
     "data": {
      "text/plain": [
       "7-element Array{Float64,1}:\n",
       " -15.0\n",
       " -10.0\n",
       " -23.0\n",
       "   0.0\n",
       "  55.0\n",
       "  33.0\n",
       "   5.5"
      ]
     },
     "execution_count": 201,
     "metadata": {},
     "output_type": "execute_result"
    }
   ],
   "source": [
    "m, status, y, dual = secondstage_vec(x_mod, ξ[3])\n",
    "dual"
   ]
  },
  {
   "cell_type": "code",
   "execution_count": 176,
   "metadata": {},
   "outputs": [
    {
     "name": "stdout",
     "output_type": "stream",
     "text": [
      "L-shaped solved\n"
     ]
    }
   ],
   "source": [
    "        #si il est plus petit que la valeur objective, on arrete\n",
    "        if (Q_rond < getobjectivevalue(mas))\n",
    "            stop = 1\n",
    "            println(\"L-shaped solved\")\n",
    "        else\n",
    "            #sinon, on rajoute une coupe\n",
    "            @constraint(mas, sum(E[i]*x[i] for i = 1:4) + theta >= e)\n",
    "            optconstraintcounter += 1\n",
    "        end\n",
    "    \n",
    "        #dans le cas ou le stop n'est pas egal a un, on resous notre nouveau probleme avec la nouvelle contrainte,\n",
    "        #s'il devient infaisaible, on arrete\n",
    "        if (stop != 1)\n",
    "            status = solve(mas)\n",
    "            Q_rond = getobjectivevalue(mas)\n",
    "            if(status == :Infeasible)\n",
    "                stop = 1\n",
    "                println(\"Problem is infeasible.\")\n",
    "            end\n",
    "            println(Q_rond)\n",
    "        end "
   ]
  },
  {
   "cell_type": "code",
   "execution_count": 177,
   "metadata": {},
   "outputs": [
    {
     "data": {
      "text/plain": [
       "385.0"
      ]
     },
     "execution_count": 177,
     "metadata": {},
     "output_type": "execute_result"
    }
   ],
   "source": [
    "getvalue(theta)"
   ]
  },
  {
   "cell_type": "code",
   "execution_count": 179,
   "metadata": {},
   "outputs": [
    {
     "data": {
      "text/plain": [
       "457.0"
      ]
     },
     "execution_count": 179,
     "metadata": {},
     "output_type": "execute_result"
    }
   ],
   "source": [
    "getobjectivevalue(mas)"
   ]
  },
  {
   "cell_type": "code",
   "execution_count": 99,
   "metadata": {},
   "outputs": [
    {
     "data": {
      "text/plain": [
       "4-element Array{Float64,1}:\n",
       "  0.0\n",
       "  0.0\n",
       "  0.0\n",
       " 12.0"
      ]
     },
     "execution_count": 99,
     "metadata": {},
     "output_type": "execute_result"
    }
   ],
   "source": [
    "    end    \n",
    "    iteration += 1\n",
    "    if (iteration > 1000)\n",
    "        println(\"Exceeded maximum number of iterations\")\n",
    "        break\n",
    "    end\n",
    "end"
   ]
  }
 ],
 "metadata": {
  "anaconda-cloud": {},
  "kernelspec": {
   "display_name": "Julia 0.6.2",
   "language": "julia",
   "name": "julia-0.6"
  },
  "language_info": {
   "file_extension": ".jl",
   "mimetype": "application/julia",
   "name": "julia",
   "version": "0.6.2"
  }
 },
 "nbformat": 4,
 "nbformat_minor": 1
}
